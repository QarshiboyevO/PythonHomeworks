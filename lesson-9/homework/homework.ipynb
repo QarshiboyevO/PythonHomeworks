{
 "cells": [
  {
   "cell_type": "code",
   "id": "initial_id",
   "metadata": {
    "collapsed": true,
    "ExecuteTime": {
     "end_time": "2025-03-27T12:32:01.417909Z",
     "start_time": "2025-03-27T12:32:01.390577Z"
    }
   },
   "source": [
    "from random import randint\n",
    "class BookNotFoundException(Exception):\n",
    "    pass\n",
    "\n",
    "class BookAlreadyBorrowedException(Exception):\n",
    "    pass\n",
    "\n",
    "class MemberLimitExceededException(Exception):\n",
    "    pass\n",
    "class Book:\n",
    "    def __init__(self, title, author, is_borrowed:bool=False):\n",
    "        self.title = title\n",
    "        self.author = author\n",
    "        self.is_borrowed = is_borrowed\n",
    "class Member:\n",
    "    def __init__(self,name,borrowed_books:int=0 ):\n",
    "        self.name = name\n",
    "        self.borrowed_books = borrowed_books\n",
    "class Library:\n",
    "    def __init__(self):\n",
    "        self.books = []\n",
    "        self.members=[]\n",
    "    def loadbookdata(self):\n",
    "        try:\n",
    "            with open(\"book.txt\") as f:\n",
    "                for line in f:\n",
    "                    title,author,is_borrowed=line.strip().split(':')\n",
    "                    self.books.append(Book(title,author,is_borrowed==\"True\"))\n",
    "        except FileNotFoundError:\n",
    "            pass\n",
    "\n",
    "    def savebookdata(self):\n",
    "        with open(\"book.txt\",\"w\") as f:\n",
    "            for book in self.books:\n",
    "                f.write(f\"{book.title}:{book.author}:{book.is_borrowed}\\n\")\n",
    "\n",
    "    def loadmemberdata(self):\n",
    "        try:\n",
    "            with open(\"members.txt\") as f:\n",
    "                for line in f:\n",
    "                    id,name,borrowed_books=line.strip().split(':')\n",
    "                    self.members.append((id,Member(name,int(borrowed_books))))\n",
    "        except FileNotFoundError:\n",
    "            pass\n",
    "    def savememberdata(self):\n",
    "        with open(\"members.txt\",\"w\") as f:\n",
    "            for member_id,member in self.members:\n",
    "                f.write(f\"{member_id}:{member.name}:{member.borrowed_books}\\n\")\n",
    "\n",
    "    def borrowed_book(self,title,author):\n",
    "        self.loadbookdata()\n",
    "        found=False\n",
    "        for book in self.books:\n",
    "            if book.title == title and book.author == author:\n",
    "                found=True\n",
    "                if book.is_borrowed:\n",
    "                    raise BookAlreadyBorrowedException(\"Book is already borrowed\")\n",
    "                else:\n",
    "                    book.is_borrowed = True\n",
    "        if not found:\n",
    "            raise BookNotFoundException(\"Book is not found\")\n",
    "        self.savebookdata()\n",
    "\n",
    "\n",
    "    def memberborrewed(self,id,title,author):\n",
    "        self.loadmemberdata()\n",
    "        self.loadbookdata()\n",
    "        found=False\n",
    "        for memid,member in self.members:\n",
    "            if memid == id:\n",
    "                found=True\n",
    "                if member.borrowed_books>3:\n",
    "                    raise MemberLimitExceededException(\"Too many books borrowed\")\n",
    "                try:\n",
    "                    self.borrowed_book(title,author)\n",
    "                    member.borrowed_books += 1\n",
    "                    print(f\"Borrowed: {title}:{author}\")\n",
    "\n",
    "                except BookNotFoundException as e:\n",
    "                    print(f\"Error: {e}\")\n",
    "                except BookAlreadyBorrowedException as e:\n",
    "                    print(f\"Error: {e}\")\n",
    "            break\n",
    "        if not found:\n",
    "            print(f\"Error: {id} not found\")\n",
    "\n",
    "\n",
    "        self.savememberdata()\n",
    "        self.savebookdata()\n",
    "\n",
    "\n",
    "    def addmember(self,name):\n",
    "        self.loadmemberdata()\n",
    "        member_id=randint(10000,99999)\n",
    "        while member_id in self.members:\n",
    "            member_id=randint(10000,99999)\n",
    "\n",
    "        self.members.append((str(member_id),Member(name,0)))\n",
    "        self.savememberdata()\n",
    "        print(f'member is added: {member_id}')\n",
    "\n",
    "\n",
    "\n",
    "    def add(self,title,author):\n",
    "        self.loadbookdata()\n",
    "        self.books.append(Book(title,author,is_borrowed=False))\n",
    "        self.savebookdata()\n",
    "\n",
    "\n",
    "\n",
    "\n",
    "\n",
    "\n",
    "\n",
    "\n",
    "\n",
    "\n"
   ],
   "outputs": [],
   "execution_count": 14
  },
  {
   "metadata": {
    "ExecuteTime": {
     "end_time": "2025-03-27T12:36:18.804288Z",
     "start_time": "2025-03-27T12:36:18.794898Z"
    }
   },
   "cell_type": "code",
   "source": [
    "lib = Library()\n",
    "\n",
    "# Add books\n",
    "lib.add(\"1984\", \"George Orwell\")\n",
    "lib.add(\"To Kill a Mockingbird\", \"Harper Lee\")\n",
    "\n",
    "# Add a member\n",
    "lib.addmember(\"Alice\")\n",
    "\n"
   ],
   "id": "19c24928ea52c31d",
   "outputs": [
    {
     "name": "stdout",
     "output_type": "stream",
     "text": [
      "member is added: 79032\n"
     ]
    }
   ],
   "execution_count": 21
  },
  {
   "metadata": {
    "ExecuteTime": {
     "end_time": "2025-03-27T12:36:31.722826Z",
     "start_time": "2025-03-27T12:36:27.081905Z"
    }
   },
   "cell_type": "code",
   "source": [
    "# Suppose printed member ID is: 12345 (check your console)\n",
    "\n",
    "# Use the actual ID printed above (replace '12345' with the actual value)\n",
    "member_id = input(\"Enter the member ID printed above: \")\n",
    "\n",
    "# Try borrowing a book\n",
    "lib.memberborrewed(member_id, \"1984\", \"George Orwell\")\n",
    "\n",
    "# Try borrowing same book again to trigger exception\n",
    "lib.memberborrewed(member_id, \"1984\", \"George Orwell\")\n",
    "\n",
    "# Try borrowing 3 more to reach the limit\n",
    "lib.add(\"Book 1\", \"Author 1\")\n",
    "lib.add(\"Book 2\", \"Author 2\")\n",
    "lib.add(\"Book 3\", \"Author 3\")\n",
    "\n",
    "lib.memberborrewed(member_id, \"Book 1\", \"Author 1\")\n",
    "lib.memberborrewed(member_id, \"Book 2\", \"Author 2\")\n",
    "lib.memberborrewed(member_id, \"Book 3\", \"Author 3\")  # This one should raise MemberLimitExceededException"
   ],
   "id": "eff1b900836c9a07",
   "outputs": [
    {
     "name": "stdout",
     "output_type": "stream",
     "text": [
      "Borrowed: 1984:George Orwell\n",
      "Error: Book is already borrowed\n",
      "Borrowed: Book 1:Author 1\n",
      "Borrowed: Book 2:Author 2\n",
      "Borrowed: Book 3:Author 3\n"
     ]
    }
   ],
   "execution_count": 22
  },
  {
   "metadata": {
    "ExecuteTime": {
     "end_time": "2025-03-28T07:19:05.228081Z",
     "start_time": "2025-03-28T07:19:05.219200Z"
    }
   },
   "cell_type": "code",
   "source": [
    "import csv\n",
    "\n",
    "with open(\"grades.csv\",'w') as f:\n",
    "    writer = csv.writer(f)\n",
    "    writer.writerow([\"Name\",\"Subject\",\"Grade\"])\n",
    "    writer.writerow(['Alice',\"Math\",85])\n",
    "    writer.writerow([\"Bob\",\"Science\", 78])\n",
    "    writer.writerow([\"Carol\",\"Math\",92])\n",
    "    writer.writerow([\"Dave\",\"History\", 74])\n",
    "\n"
   ],
   "id": "2758cd2d7db2257d",
   "outputs": [],
   "execution_count": 48
  },
  {
   "metadata": {
    "ExecuteTime": {
     "end_time": "2025-03-28T07:19:06.481816Z",
     "start_time": "2025-03-28T07:19:06.475633Z"
    }
   },
   "cell_type": "code",
   "source": [
    "grade=[]\n",
    "with open(\"grades.csv\",'r') as f:\n",
    "    reader = csv.reader(f)\n",
    "    for row in reader:\n",
    "        student={\"name\":row[0],\"subject\":row[1],\"grade\":row[2]}\n",
    "        grade.append(student)\n"
   ],
   "id": "97a96286e1b6b8aa",
   "outputs": [],
   "execution_count": 49
  },
  {
   "metadata": {
    "ExecuteTime": {
     "end_time": "2025-03-28T07:07:15.798953Z",
     "start_time": "2025-03-28T07:07:15.794727Z"
    }
   },
   "cell_type": "code",
   "source": "print(grade)",
   "id": "fb181a74d38e3d95",
   "outputs": [
    {
     "name": "stdout",
     "output_type": "stream",
     "text": [
      "[{'name': 'Name', 'subject': 'Subject', 'grade': 'Grade'}, {'name': 'Alice', 'subject': 'Math', 'grade': '85'}, {'name': 'Bob', 'subject': 'Science', 'grade': '78'}, {'name': 'Carol', 'subject': ' Math', 'grade': '92'}, {'name': 'Dave', 'subject': 'History', 'grade': '74'}]\n"
     ]
    }
   ],
   "execution_count": 36
  },
  {
   "metadata": {
    "ExecuteTime": {
     "end_time": "2025-03-28T07:19:08.697703Z",
     "start_time": "2025-03-28T07:19:08.685560Z"
    }
   },
   "cell_type": "code",
   "source": [
    "mathtotal=0\n",
    "sciencetotal=0\n",
    "historicaltotal=0\n",
    "mathscounter=0\n",
    "sciencecounter=0\n",
    "historicalcounter=0\n",
    "for student in grade:\n",
    "    if student[\"subject\"]==\"Math\":\n",
    "        mathtotal+=int(student[\"grade\"])\n",
    "        mathscounter+=1\n",
    "    elif student[\"subject\"]==\"Science\":\n",
    "        sciencetotal+=int(student[\"grade\"])\n",
    "        sciencecounter+=1\n",
    "    elif student[\"subject\"]==\"History\":\n",
    "        historicaltotal+=int(student[\"grade\"])\n",
    "        historicalcounter+=1\n",
    "subject=[[\"Subject\",'Grade'],[\"Maths\",mathtotal/mathscounter],[\"Science\",sciencetotal/sciencecounter],[\"History\",historicaltotal/historicalcounter]]\n",
    "print(mathtotal,sciencetotal,historicaltotal)\n",
    "with open(\"average_grades.csv\",'w') as f:\n",
    "    writer = csv.writer(f)\n",
    "    for row in subject:\n",
    "        writer.writerow(row)"
   ],
   "id": "d06a54ce6302120",
   "outputs": [
    {
     "name": "stdout",
     "output_type": "stream",
     "text": [
      "177 78 74\n"
     ]
    }
   ],
   "execution_count": 50
  },
  {
   "metadata": {
    "ExecuteTime": {
     "end_time": "2025-03-28T07:19:09.425518Z",
     "start_time": "2025-03-28T07:19:09.421719Z"
    }
   },
   "cell_type": "code",
   "source": [
    "with open(\"average_grades.csv\",'r') as f:\n",
    "    reader = csv.reader(f)\n",
    "    for row in reader:\n",
    "        print(row)"
   ],
   "id": "a8cc07d8afbe6383",
   "outputs": [
    {
     "name": "stdout",
     "output_type": "stream",
     "text": [
      "['Subject', 'Grade']\n",
      "['Maths', '88.5']\n",
      "['Science', '78.0']\n",
      "['History', '74.0']\n"
     ]
    }
   ],
   "execution_count": 51
  },
  {
   "metadata": {
    "ExecuteTime": {
     "end_time": "2025-03-28T07:22:38.665923Z",
     "start_time": "2025-03-28T07:22:38.652838Z"
    }
   },
   "cell_type": "code",
   "source": [
    "import json\n",
    "data=[\n",
    "    {\"id\": 1, \"task\": \"Do laundry\", \"completed\": False, \"priority\": 3},\n",
    "    {\"id\": 2, \"task\": \"Buy groceries\", \"completed\": True, \"priority\": 2},\n",
    "    {\"id\": 3, \"task\": \"Finish homework\", \"completed\": False, \"priority\": 1}\n",
    "]\n",
    "with open(\"tasks.json\",'w') as f:\n",
    "    json.dump(data,f)\n"
   ],
   "id": "843ea8932b0429b9",
   "outputs": [],
   "execution_count": 53
  },
  {
   "metadata": {
    "ExecuteTime": {
     "end_time": "2025-03-28T07:29:53.334530Z",
     "start_time": "2025-03-28T07:29:53.322522Z"
    }
   },
   "cell_type": "code",
   "source": [
    "with open(\"tasks.json\",'r') as f:\n",
    "    jsondata = json.load(f)\n",
    "    print(f'ID   Task    Completed    Priority')\n",
    "    for task in jsondata:\n",
    "        print(f\"{task['id']} {task['task']}  {task['completed']}  Priority: {task['priority']}\")\n",
    "\n"
   ],
   "id": "39ce4b092d805f9b",
   "outputs": [
    {
     "name": "stdout",
     "output_type": "stream",
     "text": [
      "ID   Task    Completed    Priority\n",
      "1 Do laundry  False  Priority: 3\n",
      "2 Buy groceries  True  Priority: 2\n",
      "3 Finish homework  False  Priority: 1\n"
     ]
    }
   ],
   "execution_count": 59
  },
  {
   "metadata": {
    "ExecuteTime": {
     "end_time": "2025-03-28T07:41:09.206414Z",
     "start_time": "2025-03-28T07:41:09.175943Z"
    }
   },
   "cell_type": "code",
   "source": [
    "def totaltasks():\n",
    "    total=0\n",
    "    for task in jsondata:\n",
    "        total += 1\n",
    "    return total\n",
    "\n",
    "def completedtasks():\n",
    "    total=0\n",
    "    for task in jsondata:\n",
    "        if task['completed']:\n",
    "            total += 1\n",
    "    return total\n",
    "\n",
    "def pendingtasks():\n",
    "    total=0\n",
    "    for task in jsondata:\n",
    "        if task['completed']==False:\n",
    "            total += 1\n",
    "    return total\n",
    "\n",
    "def Avaraggepriority():\n",
    "    total=0\n",
    "    counter=0\n",
    "    for task in jsondata:\n",
    "        total+=task['priority']\n",
    "        counter+=1\n",
    "    return total/counter\n",
    "\n",
    "\n",
    "print(f'Total tasks: {totaltasks()}, Completed tasks: {completedtasks()}, Pending tasks: {pendingtasks()}, Avaraggepriority: {Avaraggepriority()}')"
   ],
   "id": "5dbf2b9c26669a76",
   "outputs": [
    {
     "name": "stdout",
     "output_type": "stream",
     "text": [
      "Total tasks: 3, Completed tasks: 1, Pending tasks: 2, Avaraggepriority: 2.0\n"
     ]
    }
   ],
   "execution_count": 65
  },
  {
   "metadata": {
    "ExecuteTime": {
     "end_time": "2025-03-28T07:41:12.522232Z",
     "start_time": "2025-03-28T07:41:12.500482Z"
    }
   },
   "cell_type": "code",
   "source": [
    "with open(\"tasks.json\",'r') as f:\n",
    "    jsondata = json.load(f)\n",
    "\n",
    "    with open(\"tasks.csv\",'w') as file:\n",
    "        writer = csv.DictWriter(file,fieldnames=jsondata[0].keys())\n",
    "        writer.writeheader()\n",
    "        for task in jsondata:\n",
    "            writer.writerow(task)\n"
   ],
   "id": "4c71bda96e0cea46",
   "outputs": [
    {
     "name": "stdout",
     "output_type": "stream",
     "text": [
      "['id', 'task', 'completed', 'priority']\n",
      "['1', 'Do laundry', 'False', '3']\n",
      "['2', 'Buy groceries', 'True', '2']\n",
      "['3', 'Finish homework', 'False', '1']\n"
     ]
    }
   ],
   "execution_count": 66
  },
  {
   "metadata": {},
   "cell_type": "code",
   "outputs": [],
   "execution_count": null,
   "source": "",
   "id": "9975297855f3dbd"
  }
 ],
 "metadata": {
  "kernelspec": {
   "display_name": "Python 3",
   "language": "python",
   "name": "python3"
  },
  "language_info": {
   "codemirror_mode": {
    "name": "ipython",
    "version": 2
   },
   "file_extension": ".py",
   "mimetype": "text/x-python",
   "name": "python",
   "nbconvert_exporter": "python",
   "pygments_lexer": "ipython2",
   "version": "2.7.6"
  }
 },
 "nbformat": 4,
 "nbformat_minor": 5
}
