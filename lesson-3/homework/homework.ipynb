{
 "cells": [
  {
   "metadata": {},
   "cell_type": "markdown",
   "source": "List tasks",
   "id": "8befcb3acc249685"
  },
  {
   "cell_type": "code",
   "id": "initial_id",
   "metadata": {
    "collapsed": true,
    "ExecuteTime": {
     "end_time": "2025-02-15T14:05:18.529771Z",
     "start_time": "2025-02-15T14:05:18.520125Z"
    }
   },
   "source": [
    "# task1\n",
    "a=['a','b','c','d','e','f','a','b']\n",
    "a.count('a')"
   ],
   "outputs": [
    {
     "data": {
      "text/plain": [
       "2"
      ]
     },
     "execution_count": 89,
     "metadata": {},
     "output_type": "execute_result"
    }
   ],
   "execution_count": 89
  },
  {
   "metadata": {
    "ExecuteTime": {
     "end_time": "2025-02-15T11:36:53.912630Z",
     "start_time": "2025-02-15T11:36:53.904639Z"
    }
   },
   "cell_type": "code",
   "source": [
    "# task2\n",
    "a=[1,3,5,5,2,3,4,54,12]\n",
    "sum(a)"
   ],
   "id": "f5e0574937709427",
   "outputs": [
    {
     "data": {
      "text/plain": [
       "89"
      ]
     },
     "execution_count": 2,
     "metadata": {},
     "output_type": "execute_result"
    }
   ],
   "execution_count": 2
  },
  {
   "metadata": {
    "ExecuteTime": {
     "end_time": "2025-02-15T11:37:17.556885Z",
     "start_time": "2025-02-15T11:37:17.546202Z"
    }
   },
   "cell_type": "code",
   "source": [
    "# task3\n",
    "a=[1,3,5,5,2,3,4,54,12]\n",
    "max(a)"
   ],
   "id": "407f677265390ede",
   "outputs": [
    {
     "data": {
      "text/plain": [
       "54"
      ]
     },
     "execution_count": 3,
     "metadata": {},
     "output_type": "execute_result"
    }
   ],
   "execution_count": 3
  },
  {
   "metadata": {
    "ExecuteTime": {
     "end_time": "2025-02-15T11:37:26.220565Z",
     "start_time": "2025-02-15T11:37:26.216661Z"
    }
   },
   "cell_type": "code",
   "source": [
    "# task4\n",
    "a=[1,3,5,5,2,3,4,54,12]\n",
    "min(a)"
   ],
   "id": "8f9df8deb1bd167a",
   "outputs": [
    {
     "data": {
      "text/plain": [
       "1"
      ]
     },
     "execution_count": 4,
     "metadata": {},
     "output_type": "execute_result"
    }
   ],
   "execution_count": 4
  },
  {
   "metadata": {
    "ExecuteTime": {
     "end_time": "2025-02-15T11:40:32.499087Z",
     "start_time": "2025-02-15T11:40:32.484877Z"
    }
   },
   "cell_type": "code",
   "source": [
    "# task5\n",
    "a=[1,3,5,5,2,3,4,54,12]\n",
    "b=1\n",
    "b in a"
   ],
   "id": "8a8f9352cc67c059",
   "outputs": [
    {
     "data": {
      "text/plain": [
       "True"
      ]
     },
     "execution_count": 5,
     "metadata": {},
     "output_type": "execute_result"
    }
   ],
   "execution_count": 5
  },
  {
   "metadata": {
    "ExecuteTime": {
     "end_time": "2025-02-15T15:25:40.419075Z",
     "start_time": "2025-02-15T15:25:40.412591Z"
    }
   },
   "cell_type": "code",
   "source": [
    "# task6\n",
    "a=[]\n",
    "try:\n",
    "    print(a[0])\n",
    "except:\n",
    "    print(\"empty list\")"
   ],
   "id": "932c357072b0b387",
   "outputs": [
    {
     "name": "stdout",
     "output_type": "stream",
     "text": [
      "empty list\n"
     ]
    }
   ],
   "execution_count": 132
  },
  {
   "metadata": {
    "ExecuteTime": {
     "end_time": "2025-02-15T11:42:11.428210Z",
     "start_time": "2025-02-15T11:42:11.421063Z"
    }
   },
   "cell_type": "code",
   "source": [
    "# task7\n",
    "a=[1,3,5,5,2,3,4,54,12]\n",
    "try:\n",
    "    print( a[len(a)-1])\n",
    "except:\n",
    "    print(\"empty list\")"
   ],
   "id": "26b74175cd54a86b",
   "outputs": [
    {
     "data": {
      "text/plain": [
       "12"
      ]
     },
     "execution_count": 8,
     "metadata": {},
     "output_type": "execute_result"
    }
   ],
   "execution_count": 8
  },
  {
   "metadata": {
    "ExecuteTime": {
     "end_time": "2025-02-15T13:10:03.210712Z",
     "start_time": "2025-02-15T13:10:03.204392Z"
    }
   },
   "cell_type": "code",
   "source": [
    "# task8\n",
    "a=[1,3,5,5,2,3,4,54,12]\n",
    "b=[a[0],a[1],a[2]]\n",
    "print(b)"
   ],
   "id": "465e08f28667e2ce",
   "outputs": [
    {
     "name": "stdout",
     "output_type": "stream",
     "text": [
      "[1, 3, 5]\n"
     ]
    }
   ],
   "execution_count": 12
  },
  {
   "metadata": {
    "ExecuteTime": {
     "end_time": "2025-02-15T13:41:40.314702Z",
     "start_time": "2025-02-15T13:41:40.307340Z"
    }
   },
   "cell_type": "code",
   "source": [
    "# task9\n",
    "list1=[1,3,5,5,2,3,4,54,12]\n",
    "list1.reverse()\n",
    "list2=list1\n",
    "print(list2)"
   ],
   "id": "2468cb8c0a29a320",
   "outputs": [
    {
     "name": "stdout",
     "output_type": "stream",
     "text": [
      "[12, 54, 4, 3, 2, 5, 5, 3, 1]\n"
     ]
    }
   ],
   "execution_count": 50
  },
  {
   "metadata": {
    "ExecuteTime": {
     "end_time": "2025-02-15T13:41:59.044885Z",
     "start_time": "2025-02-15T13:41:59.034577Z"
    }
   },
   "cell_type": "code",
   "source": [
    "# task10\n",
    "a=['a','b','c','d','e','f','a','b']\n",
    "a.sort()\n",
    "b=a\n",
    "print(b)"
   ],
   "id": "7d0945528efb18c0",
   "outputs": [
    {
     "name": "stdout",
     "output_type": "stream",
     "text": [
      "['a', 'a', 'b', 'b', 'c', 'd', 'e', 'f']\n"
     ]
    }
   ],
   "execution_count": 51
  },
  {
   "metadata": {},
   "cell_type": "markdown",
   "source": "",
   "id": "e5dff4b5050149fd"
  },
  {
   "metadata": {
    "ExecuteTime": {
     "end_time": "2025-02-15T13:29:08.727704Z",
     "start_time": "2025-02-15T13:29:08.721550Z"
    }
   },
   "cell_type": "code",
   "source": [
    "# task11\n",
    "a=['a','b','c','d','e','f','a','b']\n",
    "b=list(set(a))\n",
    "print(b)"
   ],
   "id": "f92cdcdff63cef2c",
   "outputs": [
    {
     "name": "stdout",
     "output_type": "stream",
     "text": [
      "['e', 'd', 'b', 'f', 'c', 'a']\n"
     ]
    }
   ],
   "execution_count": 32
  },
  {
   "metadata": {
    "ExecuteTime": {
     "end_time": "2025-02-15T13:43:26.656071Z",
     "start_time": "2025-02-15T13:43:26.652103Z"
    }
   },
   "cell_type": "code",
   "source": [
    "# task12\n",
    "a=['a','b','c','d','e','f','a','b']\n",
    "element='e'\n",
    "a.insert(3,element)\n",
    "print(a)"
   ],
   "id": "4e08df6078806871",
   "outputs": [
    {
     "name": "stdout",
     "output_type": "stream",
     "text": [
      "['a', 'b', 'c', 'e', 'd', 'e', 'f', 'a', 'b']\n"
     ]
    }
   ],
   "execution_count": 54
  },
  {
   "metadata": {
    "ExecuteTime": {
     "end_time": "2025-02-15T13:32:06.949388Z",
     "start_time": "2025-02-15T13:32:06.942265Z"
    }
   },
   "cell_type": "code",
   "source": [
    "# task13\n",
    "a=['a','b','c','d','e','f','a','b']\n",
    "a.index('e')"
   ],
   "id": "59bd3738c21865b6",
   "outputs": [
    {
     "data": {
      "text/plain": [
       "4"
      ]
     },
     "execution_count": 37,
     "metadata": {},
     "output_type": "execute_result"
    }
   ],
   "execution_count": 37
  },
  {
   "metadata": {
    "ExecuteTime": {
     "end_time": "2025-02-15T13:32:47.854460Z",
     "start_time": "2025-02-15T13:32:47.844944Z"
    }
   },
   "cell_type": "code",
   "source": [
    "# task14\n",
    "a=[1,34,2]\n",
    "a==[]"
   ],
   "id": "5cf57b6cb1e9bd28",
   "outputs": [
    {
     "data": {
      "text/plain": [
       "False"
      ]
     },
     "execution_count": 39,
     "metadata": {},
     "output_type": "execute_result"
    }
   ],
   "execution_count": 39
  },
  {
   "metadata": {
    "ExecuteTime": {
     "end_time": "2025-02-15T13:37:14.341479Z",
     "start_time": "2025-02-15T13:37:14.326304Z"
    }
   },
   "cell_type": "code",
   "source": [
    "# task15\n",
    "list1=[1,3,5,5,2,3,4,5,6,8,2]\n",
    "list1.count(2)+list1.count(4)+list1.count(6)+list1.count(8)"
   ],
   "id": "d67d91c78e5480a",
   "outputs": [
    {
     "data": {
      "text/plain": [
       "5"
      ]
     },
     "execution_count": 43,
     "metadata": {},
     "output_type": "execute_result"
    }
   ],
   "execution_count": 43
  },
  {
   "metadata": {
    "ExecuteTime": {
     "end_time": "2025-02-15T13:37:34.137223Z",
     "start_time": "2025-02-15T13:37:34.126363Z"
    }
   },
   "cell_type": "code",
   "source": [
    "# task16\n",
    "list1=[1,3,5,5,2,3,4,5,6,8,2]\n",
    "list1.count(1)+list1.count(3)+list1.count(5)+list1.count(7)+list1.count(9)"
   ],
   "id": "20e7cafe5082039a",
   "outputs": [
    {
     "data": {
      "text/plain": [
       "6"
      ]
     },
     "execution_count": 44,
     "metadata": {},
     "output_type": "execute_result"
    }
   ],
   "execution_count": 44
  },
  {
   "metadata": {
    "ExecuteTime": {
     "end_time": "2025-02-15T13:39:42.493909Z",
     "start_time": "2025-02-15T13:39:42.485558Z"
    }
   },
   "cell_type": "code",
   "source": [
    "# task17\n",
    "a=['a','b','c','d','e','f','a','b']\n",
    "b=['f','e','g','h','i','j','k','l','m','n']\n",
    "a.extend(b)\n",
    "print(a)"
   ],
   "id": "78e0c5a01dfd4691",
   "outputs": [
    {
     "name": "stdout",
     "output_type": "stream",
     "text": [
      "['a', 'b', 'c', 'd', 'e', 'f', 'a', 'b', 'f', 'e', 'g', 'h', 'i', 'j', 'k', 'l', 'm', 'n']\n"
     ]
    }
   ],
   "execution_count": 47
  },
  {
   "metadata": {
    "ExecuteTime": {
     "end_time": "2025-02-15T13:46:41.780616Z",
     "start_time": "2025-02-15T13:46:41.769035Z"
    }
   },
   "cell_type": "code",
   "source": [
    "# task18\n",
    "a=['a','b','c','d','e','f','a','b']\n",
    "b=['a','b','c']\n",
    "set(b).issubset(set(a))"
   ],
   "id": "7229d01328ff4eb",
   "outputs": [
    {
     "data": {
      "text/plain": [
       "True"
      ]
     },
     "execution_count": 58,
     "metadata": {},
     "output_type": "execute_result"
    }
   ],
   "execution_count": 58
  },
  {
   "metadata": {
    "ExecuteTime": {
     "end_time": "2025-02-15T13:47:14.860075Z",
     "start_time": "2025-02-15T13:47:14.851598Z"
    }
   },
   "cell_type": "code",
   "source": [
    "# task19\n",
    "a=['a','b','c','d','e','f','a','b']\n",
    "element='e'\n",
    "a[2]=element\n",
    "print(a)"
   ],
   "id": "bc450ad1a2a4f191",
   "outputs": [
    {
     "name": "stdout",
     "output_type": "stream",
     "text": [
      "['a', 'b', 'e', 'd', 'e', 'f', 'a', 'b']\n"
     ]
    }
   ],
   "execution_count": 59
  },
  {
   "metadata": {
    "ExecuteTime": {
     "end_time": "2025-02-15T13:49:36.429036Z",
     "start_time": "2025-02-15T13:49:36.421265Z"
    }
   },
   "cell_type": "code",
   "source": [
    "# task20\n",
    "list1=[1,3,5,5,2,3,4,5,6,8,2]\n",
    "list1.sort(reverse=True)\n",
    "list1[1]\n"
   ],
   "id": "bc94f01403fc8e6d",
   "outputs": [
    {
     "data": {
      "text/plain": [
       "6"
      ]
     },
     "execution_count": 62,
     "metadata": {},
     "output_type": "execute_result"
    }
   ],
   "execution_count": 62
  },
  {
   "metadata": {
    "ExecuteTime": {
     "end_time": "2025-02-15T13:49:50.832397Z",
     "start_time": "2025-02-15T13:49:50.821521Z"
    }
   },
   "cell_type": "code",
   "source": [
    "# task21\n",
    "list1=[1,3,5,5,2,3,4,5,6,8,2]\n",
    "list1.sort()\n",
    "list1[1]"
   ],
   "id": "d646eb76970266d8",
   "outputs": [
    {
     "data": {
      "text/plain": [
       "2"
      ]
     },
     "execution_count": 63,
     "metadata": {},
     "output_type": "execute_result"
    }
   ],
   "execution_count": 63
  },
  {
   "metadata": {
    "ExecuteTime": {
     "end_time": "2025-02-15T13:51:42.117184Z",
     "start_time": "2025-02-15T13:51:42.109781Z"
    }
   },
   "cell_type": "code",
   "source": [
    "# task24\n",
    "list1=[1,3,5,5,2,3,4,5,6,8,2]\n",
    "len(list1)"
   ],
   "id": "73aba67b5a0500a1",
   "outputs": [
    {
     "data": {
      "text/plain": [
       "11"
      ]
     },
     "execution_count": 68,
     "metadata": {},
     "output_type": "execute_result"
    }
   ],
   "execution_count": 68
  },
  {
   "metadata": {
    "ExecuteTime": {
     "end_time": "2025-02-15T13:52:12.063357Z",
     "start_time": "2025-02-15T13:52:12.047215Z"
    }
   },
   "cell_type": "code",
   "source": [
    "# task25\n",
    "list1=[1,3,5,5,2,3,4,5,6,8,2]\n",
    "list2=list1.copy()\n",
    "print(list2)"
   ],
   "id": "47a7cd320cf724e7",
   "outputs": [
    {
     "name": "stdout",
     "output_type": "stream",
     "text": [
      "[1, 3, 5, 5, 2, 3, 4, 5, 6, 8, 2]\n"
     ]
    }
   ],
   "execution_count": 69
  },
  {
   "metadata": {
    "ExecuteTime": {
     "end_time": "2025-02-15T13:53:53.502791Z",
     "start_time": "2025-02-15T13:53:53.498212Z"
    }
   },
   "cell_type": "code",
   "source": [
    "# task26\n",
    "list1=[1,3,5,5,2,3,4,5,6,8,2]\n",
    "list1[(len(list1))//2]"
   ],
   "id": "bb309bef53fc6097",
   "outputs": [
    {
     "data": {
      "text/plain": [
       "4"
      ]
     },
     "execution_count": 73,
     "metadata": {},
     "output_type": "execute_result"
    }
   ],
   "execution_count": 73
  },
  {
   "metadata": {
    "ExecuteTime": {
     "end_time": "2025-02-15T13:57:01.643171Z",
     "start_time": "2025-02-15T13:57:01.636447Z"
    }
   },
   "cell_type": "code",
   "source": [
    "# task27\n",
    "list1=[1,3,5,5,2,3,4,5,6,8,2]\n",
    "list2=list1[0:5]\n",
    "max(list2)\n"
   ],
   "id": "bfb68fdfd831c3e7",
   "outputs": [
    {
     "data": {
      "text/plain": [
       "5"
      ]
     },
     "execution_count": 75,
     "metadata": {},
     "output_type": "execute_result"
    }
   ],
   "execution_count": 75
  },
  {
   "metadata": {
    "ExecuteTime": {
     "end_time": "2025-02-15T13:57:18.026555Z",
     "start_time": "2025-02-15T13:57:18.016267Z"
    }
   },
   "cell_type": "code",
   "source": [
    "# task28\n",
    "list1=[1,3,5,5,2,3,4,5,6,8,2]\n",
    "list2=list1[3:7]\n",
    "min(list2)"
   ],
   "id": "27e36b3bf77af9e1",
   "outputs": [
    {
     "data": {
      "text/plain": [
       "2"
      ]
     },
     "execution_count": 76,
     "metadata": {},
     "output_type": "execute_result"
    }
   ],
   "execution_count": 76
  },
  {
   "metadata": {
    "ExecuteTime": {
     "end_time": "2025-02-15T13:59:09.767506Z",
     "start_time": "2025-02-15T13:59:09.761962Z"
    }
   },
   "cell_type": "code",
   "source": [
    "# task29\n",
    "list1=[1,3,5,5,2,3,4,5,6,8,2]\n",
    "list1.pop(5)\n",
    "list1"
   ],
   "id": "e2e075fe527eea91",
   "outputs": [
    {
     "data": {
      "text/plain": [
       "[1, 3, 5, 5, 2, 4, 5, 6, 8, 2]"
      ]
     },
     "execution_count": 81,
     "metadata": {},
     "output_type": "execute_result"
    }
   ],
   "execution_count": 81
  },
  {
   "metadata": {
    "ExecuteTime": {
     "end_time": "2025-02-15T14:01:24.613200Z",
     "start_time": "2025-02-15T14:01:24.606238Z"
    }
   },
   "cell_type": "code",
   "source": [
    "# task30\n",
    "list1=[1,3,5,5,2,3,4,5,6,8,2]\n",
    "list1==list1.sort()"
   ],
   "id": "b59e155058fcfbe9",
   "outputs": [
    {
     "data": {
      "text/plain": [
       "False"
      ]
     },
     "execution_count": 83,
     "metadata": {},
     "output_type": "execute_result"
    }
   ],
   "execution_count": 83
  },
  {
   "metadata": {
    "ExecuteTime": {
     "end_time": "2025-02-15T14:02:15.335997Z",
     "start_time": "2025-02-15T14:02:15.332700Z"
    }
   },
   "cell_type": "code",
   "source": [
    "# task31\n",
    "list1=[1,3,5,5,2,3,4,5,6,8,2]\n",
    "number=3\n",
    "list1=list1*number\n",
    "print(list1)"
   ],
   "id": "2a0fff817ecd9917",
   "outputs": [
    {
     "name": "stdout",
     "output_type": "stream",
     "text": [
      "[1, 3, 5, 5, 2, 3, 4, 5, 6, 8, 2, 1, 3, 5, 5, 2, 3, 4, 5, 6, 8, 2, 1, 3, 5, 5, 2, 3, 4, 5, 6, 8, 2]\n"
     ]
    }
   ],
   "execution_count": 85
  },
  {
   "metadata": {
    "ExecuteTime": {
     "end_time": "2025-02-15T14:03:44.871746Z",
     "start_time": "2025-02-15T14:03:44.866478Z"
    }
   },
   "cell_type": "code",
   "source": [
    "# task32\n",
    "list1=[1,3,5,5,2,3,4,5,6,8,2]\n",
    "list2=[1,4,2,5,6,2,4,6,1,0,23]\n",
    "list1.extend(list2)\n",
    "list1.sort()\n",
    "list1"
   ],
   "id": "58f01f7f2744fca6",
   "outputs": [
    {
     "data": {
      "text/plain": [
       "[0, 1, 1, 1, 2, 2, 2, 2, 3, 3, 4, 4, 4, 5, 5, 5, 5, 6, 6, 6, 8, 23]"
      ]
     },
     "execution_count": 88,
     "metadata": {},
     "output_type": "execute_result"
    }
   ],
   "execution_count": 88
  },
  {
   "metadata": {
    "ExecuteTime": {
     "end_time": "2025-02-15T14:15:21.777167Z",
     "start_time": "2025-02-15T14:15:21.773172Z"
    }
   },
   "cell_type": "code",
   "source": [
    "# task33\n",
    "list1=[1,3,5,5,2,3,4,5,6,8,2]\n",
    "element=2\n",
    "a=list1.index(element)\n",
    "print(list1.index(element),list1.index(element,a+1))"
   ],
   "id": "323f036d745234b",
   "outputs": [
    {
     "name": "stdout",
     "output_type": "stream",
     "text": [
      "4 10\n"
     ]
    }
   ],
   "execution_count": 100
  },
  {
   "metadata": {
    "ExecuteTime": {
     "end_time": "2025-02-15T14:27:04.904202Z",
     "start_time": "2025-02-15T14:27:04.899272Z"
    }
   },
   "cell_type": "code",
   "source": [
    "# task34\n",
    "list1=[1,3,5,5,2,3,4,5,6,8,2]\n",
    "list1.reverse()\n",
    "print(list1)\n"
   ],
   "id": "72271c6e41015850",
   "outputs": [
    {
     "name": "stdout",
     "output_type": "stream",
     "text": [
      "[2, 8, 6, 5, 4, 3, 2, 5, 5, 3, 1]\n"
     ]
    }
   ],
   "execution_count": 120
  },
  {
   "metadata": {
    "ExecuteTime": {
     "end_time": "2025-02-15T15:53:16.178637Z",
     "start_time": "2025-02-15T15:53:16.169352Z"
    }
   },
   "cell_type": "code",
   "source": [
    "# task35\n",
    "numbers=list[range(1,20,1)]\n",
    "print(numbers)"
   ],
   "id": "54284f2b9cfc8b0f",
   "outputs": [
    {
     "name": "stdout",
     "output_type": "stream",
     "text": [
      "list[range(1, 20)]\n"
     ]
    }
   ],
   "execution_count": 173
  },
  {
   "metadata": {
    "ExecuteTime": {
     "end_time": "2025-02-15T14:23:24.212520Z",
     "start_time": "2025-02-15T14:23:24.208065Z"
    }
   },
   "cell_type": "code",
   "source": [
    "# task38\n",
    "from copy import deepcopy\n",
    "list1=[3,1,3]\n",
    "list2=deepcopy(list1)\n",
    "list1.reverse()\n",
    "list1==list2\n",
    "\n",
    "\n"
   ],
   "id": "7731801e93fc1aa6",
   "outputs": [
    {
     "data": {
      "text/plain": [
       "True"
      ]
     },
     "execution_count": 116,
     "metadata": {},
     "output_type": "execute_result"
    }
   ],
   "execution_count": 116
  },
  {
   "metadata": {
    "ExecuteTime": {
     "end_time": "2025-02-15T14:24:55.658969Z",
     "start_time": "2025-02-15T14:24:55.650830Z"
    }
   },
   "cell_type": "code",
   "source": [
    "# task39\n",
    "list1=[1,3,5,5,2,3,4,5,6,8,2,4]\n",
    "list2=[[1,2,4,5],[5,5,6,3],[4,3,8,2]]\n",
    "list2"
   ],
   "id": "eff670aa84bbe0d0",
   "outputs": [
    {
     "data": {
      "text/plain": [
       "[[1, 2, 4, 5], [5, 5, 6, 3], [4, 5, 8, 1]]"
      ]
     },
     "execution_count": 117,
     "metadata": {},
     "output_type": "execute_result"
    }
   ],
   "execution_count": 117
  },
  {
   "metadata": {
    "ExecuteTime": {
     "end_time": "2025-02-15T14:26:39.264604Z",
     "start_time": "2025-02-15T14:26:39.257151Z"
    }
   },
   "cell_type": "code",
   "source": [
    "# task40\n",
    "list1=[1,3,5,5,2,3,4,5,6,8,2,4]\n",
    "list2=list(set(list1))\n",
    "list2"
   ],
   "id": "b195333f67a97e93",
   "outputs": [
    {
     "data": {
      "text/plain": [
       "[1, 2, 3, 4, 5, 6, 8]"
      ]
     },
     "execution_count": 119,
     "metadata": {},
     "output_type": "execute_result"
    }
   ],
   "execution_count": 119
  },
  {
   "metadata": {},
   "cell_type": "code",
   "outputs": [],
   "execution_count": null,
   "source": "",
   "id": "ef7ac12524e8abef"
  },
  {
   "metadata": {},
   "cell_type": "markdown",
   "source": "Tuples",
   "id": "da2c98787bb5e12f"
  },
  {
   "metadata": {
    "ExecuteTime": {
     "end_time": "2025-02-15T14:28:26.684632Z",
     "start_time": "2025-02-15T14:28:26.672908Z"
    }
   },
   "cell_type": "code",
   "source": [
    "# task1\n",
    "tuple1=(1,2,4,5,6,4,3,6,1,7)\n",
    "element=1\n",
    "tuple1.count(element)"
   ],
   "id": "abbbcadec24aa173",
   "outputs": [
    {
     "data": {
      "text/plain": [
       "2"
      ]
     },
     "execution_count": 121,
     "metadata": {},
     "output_type": "execute_result"
    }
   ],
   "execution_count": 121
  },
  {
   "metadata": {
    "ExecuteTime": {
     "end_time": "2025-02-15T14:28:43.914006Z",
     "start_time": "2025-02-15T14:28:43.904916Z"
    }
   },
   "cell_type": "code",
   "source": [
    "# task2\n",
    "tuple1=(1,2,4,5,6,4,3,6,1,7)\n",
    "max(tuple1)"
   ],
   "id": "21f04959683e824d",
   "outputs": [
    {
     "data": {
      "text/plain": [
       "7"
      ]
     },
     "execution_count": 122,
     "metadata": {},
     "output_type": "execute_result"
    }
   ],
   "execution_count": 122
  },
  {
   "metadata": {
    "ExecuteTime": {
     "end_time": "2025-02-15T14:28:55.371602Z",
     "start_time": "2025-02-15T14:28:55.365986Z"
    }
   },
   "cell_type": "code",
   "source": [
    "# task3\n",
    "tuple1=(1,2,4,5,6,4,3,6,1,7)\n",
    "min(tuple1)"
   ],
   "id": "3ee61d7682c0f156",
   "outputs": [
    {
     "data": {
      "text/plain": [
       "1"
      ]
     },
     "execution_count": 124,
     "metadata": {},
     "output_type": "execute_result"
    }
   ],
   "execution_count": 124
  },
  {
   "metadata": {
    "ExecuteTime": {
     "end_time": "2025-02-15T14:29:25.760337Z",
     "start_time": "2025-02-15T14:29:25.751245Z"
    }
   },
   "cell_type": "code",
   "source": [
    "# task4\n",
    "tuple1=(1,2,4,5,6,4,3,6,1,7)\n",
    "element=1\n",
    "element in tuple1"
   ],
   "id": "7626c9bf9fc088a8",
   "outputs": [
    {
     "data": {
      "text/plain": [
       "True"
      ]
     },
     "execution_count": 125,
     "metadata": {},
     "output_type": "execute_result"
    }
   ],
   "execution_count": 125
  },
  {
   "metadata": {
    "ExecuteTime": {
     "end_time": "2025-02-15T15:26:39.955973Z",
     "start_time": "2025-02-15T15:26:39.950426Z"
    }
   },
   "cell_type": "code",
   "source": [
    "# task5\n",
    "tuple1=(1,2,4,5,6,4,3,6,1,7)\n",
    "try:\n",
    "    print(tuple1[0])\n",
    "except:\n",
    "    print(\"empty tuple\")"
   ],
   "id": "c3cfbb67828e9964",
   "outputs": [
    {
     "name": "stdout",
     "output_type": "stream",
     "text": [
      "1\n"
     ]
    }
   ],
   "execution_count": 133
  },
  {
   "metadata": {
    "ExecuteTime": {
     "end_time": "2025-02-15T15:27:01.965644Z",
     "start_time": "2025-02-15T15:27:01.958477Z"
    }
   },
   "cell_type": "code",
   "source": [
    "# task6\n",
    "tuple1=(1,2,4,5,6,4,3,6,1,7)\n",
    "try:\n",
    "    print(tuple1[len(tuple1)-1])\n",
    "except:\n",
    "    print(\"empty tuple\")"
   ],
   "id": "3804a91c6af74e5a",
   "outputs": [
    {
     "name": "stdout",
     "output_type": "stream",
     "text": [
      "7\n"
     ]
    }
   ],
   "execution_count": 134
  },
  {
   "metadata": {
    "ExecuteTime": {
     "end_time": "2025-02-15T15:27:15.981105Z",
     "start_time": "2025-02-15T15:27:15.972259Z"
    }
   },
   "cell_type": "code",
   "source": [
    "# task7\n",
    "tuple1=(1,2,4,5,6,4,3,6,1,7)\n",
    "len(tuple1)"
   ],
   "id": "cc998a5f94dc4d3e",
   "outputs": [
    {
     "data": {
      "text/plain": [
       "10"
      ]
     },
     "execution_count": 135,
     "metadata": {},
     "output_type": "execute_result"
    }
   ],
   "execution_count": 135
  },
  {
   "metadata": {
    "ExecuteTime": {
     "end_time": "2025-02-15T15:28:54.311701Z",
     "start_time": "2025-02-15T15:28:54.298328Z"
    }
   },
   "cell_type": "code",
   "source": [
    "# task8\n",
    "tuple1=(1,2,4,5,6,4,3,6,1,7)\n",
    "newtuple=(tuple1[0],tuple1[1],tuple1[2])\n",
    "newtuple"
   ],
   "id": "51ac2e780caec657",
   "outputs": [
    {
     "data": {
      "text/plain": [
       "(1, 2, 4)"
      ]
     },
     "execution_count": 136,
     "metadata": {},
     "output_type": "execute_result"
    }
   ],
   "execution_count": 136
  },
  {
   "metadata": {
    "ExecuteTime": {
     "end_time": "2025-02-15T15:29:43.047529Z",
     "start_time": "2025-02-15T15:29:43.036965Z"
    }
   },
   "cell_type": "code",
   "source": [
    "# task9\n",
    "tuple1=(1,2,4,5,6,4,3,6,1,7)\n",
    "tuple2=(1,2,2,7,4,3)\n",
    "finaltuple=(tuple1+tuple2)\n",
    "finaltuple"
   ],
   "id": "ad0f2524a38b83ac",
   "outputs": [
    {
     "data": {
      "text/plain": [
       "(1, 2, 4, 5, 6, 4, 3, 6, 1, 7, 1, 2, 2, 7, 4, 3)"
      ]
     },
     "execution_count": 137,
     "metadata": {},
     "output_type": "execute_result"
    }
   ],
   "execution_count": 137
  },
  {
   "metadata": {
    "ExecuteTime": {
     "end_time": "2025-02-15T15:29:53.720808Z",
     "start_time": "2025-02-15T15:29:53.713655Z"
    }
   },
   "cell_type": "code",
   "source": [
    "# task10\n",
    "tuple1==()"
   ],
   "id": "9962ccfd12213150",
   "outputs": [
    {
     "data": {
      "text/plain": [
       "False"
      ]
     },
     "execution_count": 138,
     "metadata": {},
     "output_type": "execute_result"
    }
   ],
   "execution_count": 138
  },
  {
   "metadata": {
    "ExecuteTime": {
     "end_time": "2025-02-15T15:31:03.137753Z",
     "start_time": "2025-02-15T15:31:03.128386Z"
    }
   },
   "cell_type": "code",
   "source": [
    "# task11\n",
    "tuple1=(1,2,4,5,6,4,3,6,1,7)\n",
    "element=1\n",
    "a=tuple1.index(element)\n",
    "print(tuple1.index(element),tuple1.index(element,a+1))"
   ],
   "id": "7c7b9b04c39b24e5",
   "outputs": [
    {
     "name": "stdout",
     "output_type": "stream",
     "text": [
      "0 8\n"
     ]
    }
   ],
   "execution_count": 139
  },
  {
   "metadata": {
    "ExecuteTime": {
     "end_time": "2025-02-15T15:33:32.308103Z",
     "start_time": "2025-02-15T15:33:32.299403Z"
    }
   },
   "cell_type": "code",
   "source": [
    "# task12\n",
    "tuple1=(1,2,4,5,6,4,3,6,1,7)\n",
    "tupletemp=sorted(tuple(set(tuple1)))\n",
    "tupletemp[len(tupletemp)-2]"
   ],
   "id": "5113c096512f8098",
   "outputs": [
    {
     "data": {
      "text/plain": [
       "6"
      ]
     },
     "execution_count": 142,
     "metadata": {},
     "output_type": "execute_result"
    }
   ],
   "execution_count": 142
  },
  {
   "metadata": {
    "ExecuteTime": {
     "end_time": "2025-02-15T15:34:51.113848Z",
     "start_time": "2025-02-15T15:34:51.104747Z"
    }
   },
   "cell_type": "code",
   "source": [
    "# task13\n",
    "tuple1=(1,2,4,5,6,4,3,6,1,7)\n",
    "tupletemp=sorted(tuple(set(tuple1)))\n",
    "tupletemp[1]"
   ],
   "id": "a644351febe54048",
   "outputs": [
    {
     "data": {
      "text/plain": [
       "2"
      ]
     },
     "execution_count": 144,
     "metadata": {},
     "output_type": "execute_result"
    }
   ],
   "execution_count": 144
  },
  {
   "metadata": {
    "ExecuteTime": {
     "end_time": "2025-02-15T15:36:47.050293Z",
     "start_time": "2025-02-15T15:36:47.044564Z"
    }
   },
   "cell_type": "code",
   "source": [
    "# task14\n",
    "singletuple=(1)\n",
    "singletuple\n"
   ],
   "id": "b6cb90e4254ecade",
   "outputs": [
    {
     "data": {
      "text/plain": [
       "1"
      ]
     },
     "execution_count": 146,
     "metadata": {},
     "output_type": "execute_result"
    }
   ],
   "execution_count": 146
  },
  {
   "metadata": {
    "ExecuteTime": {
     "end_time": "2025-02-15T15:37:27.062735Z",
     "start_time": "2025-02-15T15:37:27.056960Z"
    }
   },
   "cell_type": "code",
   "source": [
    "# task15\n",
    "list1=[1,3,5,5,2,3,4,5,6,8,2]\n",
    "listtotuple=tuple(list1)\n",
    "listtotuple"
   ],
   "id": "e7b95fd0852b248",
   "outputs": [
    {
     "data": {
      "text/plain": [
       "(1, 3, 5, 5, 2, 3, 4, 5, 6, 8, 2)"
      ]
     },
     "execution_count": 147,
     "metadata": {},
     "output_type": "execute_result"
    }
   ],
   "execution_count": 147
  },
  {
   "metadata": {
    "ExecuteTime": {
     "end_time": "2025-02-15T15:37:53.085917Z",
     "start_time": "2025-02-15T15:37:53.080647Z"
    }
   },
   "cell_type": "code",
   "source": [
    "# task16\n",
    "tuple1=(1,2,4,5,6,4,3,6,1,7)\n",
    "tuple1==sorted(tuple1)"
   ],
   "id": "28d1ae27cf6d9b4e",
   "outputs": [
    {
     "data": {
      "text/plain": [
       "False"
      ]
     },
     "execution_count": 148,
     "metadata": {},
     "output_type": "execute_result"
    }
   ],
   "execution_count": 148
  },
  {
   "metadata": {
    "ExecuteTime": {
     "end_time": "2025-02-15T15:40:56.657563Z",
     "start_time": "2025-02-15T15:40:56.647782Z"
    }
   },
   "cell_type": "code",
   "source": [
    "# task17\n",
    "tuple1=(1,2,4,5,6,4,3,6,1,7)\n",
    "subtuple=tuple1[1:7]\n",
    "\n",
    "max(subtuple)"
   ],
   "id": "a0c680eaa1da4b1",
   "outputs": [
    {
     "data": {
      "text/plain": [
       "6"
      ]
     },
     "execution_count": 157,
     "metadata": {},
     "output_type": "execute_result"
    }
   ],
   "execution_count": 157
  },
  {
   "metadata": {
    "ExecuteTime": {
     "end_time": "2025-02-15T15:41:28.099380Z",
     "start_time": "2025-02-15T15:41:28.093810Z"
    }
   },
   "cell_type": "code",
   "source": [
    "# task18\n",
    "tuple1=(1,2,4,5,6,4,3,6,1,7)\n",
    "subtuple=tuple1[3:8]\n",
    "\n",
    "min(subtuple)"
   ],
   "id": "af211f83ca3bc12f",
   "outputs": [
    {
     "data": {
      "text/plain": [
       "3"
      ]
     },
     "execution_count": 158,
     "metadata": {},
     "output_type": "execute_result"
    }
   ],
   "execution_count": 158
  },
  {
   "metadata": {
    "ExecuteTime": {
     "end_time": "2025-02-15T15:45:13.255628Z",
     "start_time": "2025-02-15T15:45:13.249793Z"
    }
   },
   "cell_type": "code",
   "source": [
    "# task19\n",
    "tuple1=(1,2,4,5,6,4,3,6,1,7)\n",
    "element=2\n",
    "newlist=list(tuple1)\n",
    "newlist.remove(element)\n",
    "newtuple=tuple(newlist)\n",
    "newtuple\n"
   ],
   "id": "3907b6771f73f4bd",
   "outputs": [
    {
     "data": {
      "text/plain": [
       "(1, 4, 5, 6, 4, 3, 6, 1, 7)"
      ]
     },
     "execution_count": 165,
     "metadata": {},
     "output_type": "execute_result"
    }
   ],
   "execution_count": 165
  },
  {
   "metadata": {
    "ExecuteTime": {
     "end_time": "2025-02-15T15:46:53.132128Z",
     "start_time": "2025-02-15T15:46:53.125172Z"
    }
   },
   "cell_type": "code",
   "source": [
    "# task20\n",
    "tuple1=(1,2,4,5,6,4,3,6,1,7)\n",
    "nettuple=((1,2,4),(5,6,4),(3,6,1,7))\n",
    "nettuple"
   ],
   "id": "27c9ff7e0c12cba0",
   "outputs": [
    {
     "data": {
      "text/plain": [
       "((1, 2, 3), (4, 3, 5), (3, 7, 8))"
      ]
     },
     "execution_count": 167,
     "metadata": {},
     "output_type": "execute_result"
    }
   ],
   "execution_count": 167
  },
  {
   "metadata": {
    "ExecuteTime": {
     "end_time": "2025-02-15T15:48:56.413654Z",
     "start_time": "2025-02-15T15:48:56.405963Z"
    }
   },
   "cell_type": "code",
   "source": [
    "# task21\n",
    "tuple1=(1,2,4,5,6,4,3,6,1,7)\n",
    "element=2\n",
    "newtuple=tuple1*element\n",
    "newtuple"
   ],
   "id": "7ed21985898bdc06",
   "outputs": [
    {
     "data": {
      "text/plain": [
       "(1, 2, 4, 5, 6, 4, 3, 6, 1, 7, 1, 2, 4, 5, 6, 4, 3, 6, 1, 7)"
      ]
     },
     "execution_count": 169,
     "metadata": {},
     "output_type": "execute_result"
    }
   ],
   "execution_count": 169
  },
  {
   "metadata": {
    "ExecuteTime": {
     "end_time": "2025-02-15T15:51:15.165263Z",
     "start_time": "2025-02-15T15:51:15.159895Z"
    }
   },
   "cell_type": "code",
   "source": [
    "rango_tuple=tuple(range(1,10))\n",
    "rango_tuple"
   ],
   "id": "4f4e0f6933ef3ae8",
   "outputs": [
    {
     "data": {
      "text/plain": [
       "(1, 2, 3, 4, 5, 6, 7, 8, 9)"
      ]
     },
     "execution_count": 170,
     "metadata": {},
     "output_type": "execute_result"
    }
   ],
   "execution_count": 170
  },
  {
   "metadata": {
    "ExecuteTime": {
     "end_time": "2025-02-16T10:46:50.567753Z",
     "start_time": "2025-02-16T10:46:50.558107Z"
    }
   },
   "cell_type": "code",
   "source": [
    "tuple1=(1,2,4,5,6,4,3,6,1,7)\n",
    "tuple2=tuple(reversed(tuple1))\n",
    "tuple2"
   ],
   "id": "2d84851bae6c21d2",
   "outputs": [
    {
     "data": {
      "text/plain": [
       "(7, 1, 6, 3, 4, 6, 5, 4, 2, 1)"
      ]
     },
     "execution_count": 177,
     "metadata": {},
     "output_type": "execute_result"
    }
   ],
   "execution_count": 177
  },
  {
   "metadata": {
    "ExecuteTime": {
     "end_time": "2025-02-16T10:47:09.465812Z",
     "start_time": "2025-02-16T10:47:09.457523Z"
    }
   },
   "cell_type": "code",
   "source": [
    "tuple1=(1,2,4,5,6,4,3,6,1,7)\n",
    "tuple2=tuple(reversed(tuple1))\n",
    "tuple2==tuple1"
   ],
   "id": "32a1220e4fbbe83c",
   "outputs": [
    {
     "data": {
      "text/plain": [
       "False"
      ]
     },
     "execution_count": 178,
     "metadata": {},
     "output_type": "execute_result"
    }
   ],
   "execution_count": 178
  },
  {
   "metadata": {
    "ExecuteTime": {
     "end_time": "2025-02-16T10:47:38.319825Z",
     "start_time": "2025-02-16T10:47:38.313804Z"
    }
   },
   "cell_type": "code",
   "source": [
    "tuple1=(1,2,4,5,6,4,3,6,1,7)\n",
    "tuple2=tuple(set(tuple1))\n",
    "tuple2\n"
   ],
   "id": "6b98f71ea4be76a",
   "outputs": [
    {
     "data": {
      "text/plain": [
       "(1, 2, 3, 4, 5, 6, 7)"
      ]
     },
     "execution_count": 179,
     "metadata": {},
     "output_type": "execute_result"
    }
   ],
   "execution_count": 179
  },
  {
   "metadata": {},
   "cell_type": "code",
   "outputs": [],
   "execution_count": null,
   "source": "",
   "id": "7267e180186f20bc"
  },
  {
   "metadata": {},
   "cell_type": "markdown",
   "source": "Sets\n",
   "id": "8dee3321aa17f732"
  },
  {
   "metadata": {
    "ExecuteTime": {
     "end_time": "2025-02-16T10:57:04.559987Z",
     "start_time": "2025-02-16T10:57:04.551458Z"
    }
   },
   "cell_type": "code",
   "source": [
    "# task1\n",
    "set1={1,2,3,4,5,6,4,3,6,1,7}\n",
    "set2={2,5,3,7,4,2,6,1,8}\n",
    "set3=set1.union(set2)\n",
    "set3"
   ],
   "id": "2259476d8d4f0aae",
   "outputs": [
    {
     "data": {
      "text/plain": [
       "{1, 2, 3, 4, 5, 6, 7, 8}"
      ]
     },
     "execution_count": 202,
     "metadata": {},
     "output_type": "execute_result"
    }
   ],
   "execution_count": 202
  },
  {
   "metadata": {
    "ExecuteTime": {
     "end_time": "2025-02-16T10:49:12.980537Z",
     "start_time": "2025-02-16T10:49:12.972638Z"
    }
   },
   "cell_type": "code",
   "source": [
    "# task2\n",
    "set1={1,2,3,4,5,6,4,3,6,1,7}\n",
    "set2={2,5,3,7,4,2,6,1,8}\n",
    "set3=set1.intersection(set2)\n",
    "set3"
   ],
   "id": "8290adf5db7686e0",
   "outputs": [
    {
     "data": {
      "text/plain": [
       "{1, 2, 3, 4, 5, 6, 7}"
      ]
     },
     "execution_count": 181,
     "metadata": {},
     "output_type": "execute_result"
    }
   ],
   "execution_count": 181
  },
  {
   "metadata": {
    "ExecuteTime": {
     "end_time": "2025-02-16T10:50:30.855229Z",
     "start_time": "2025-02-16T10:50:30.850066Z"
    }
   },
   "cell_type": "code",
   "source": [
    "# task3\n",
    "set1={1,2,3,4,5,6,4,3,6,1,7}\n",
    "set2={2,5,3,4,2,6,1,8}\n",
    "set3=set1.difference(set2)\n",
    "set3"
   ],
   "id": "800b6d3177b5f00b",
   "outputs": [
    {
     "data": {
      "text/plain": [
       "{7}"
      ]
     },
     "execution_count": 183,
     "metadata": {},
     "output_type": "execute_result"
    }
   ],
   "execution_count": 183
  },
  {
   "metadata": {
    "ExecuteTime": {
     "end_time": "2025-02-16T10:52:15.181639Z",
     "start_time": "2025-02-16T10:52:15.178106Z"
    }
   },
   "cell_type": "code",
   "source": [
    "# task4\n",
    "set1={1,2,3,4,5,6,4,3,2,1,7}\n",
    "set2={2,5,3,4,2,6,1}\n",
    "set2.issubset(set1)"
   ],
   "id": "1c3add65db687493",
   "outputs": [
    {
     "data": {
      "text/plain": [
       "True"
      ]
     },
     "execution_count": 188,
     "metadata": {},
     "output_type": "execute_result"
    }
   ],
   "execution_count": 188
  },
  {
   "metadata": {
    "ExecuteTime": {
     "end_time": "2025-02-16T10:53:25.820144Z",
     "start_time": "2025-02-16T10:53:25.812452Z"
    }
   },
   "cell_type": "code",
   "source": [
    "# task5\n",
    "set1={1,2,3,4,5,6,4,3,2,1,7}\n",
    "element=3\n",
    "element in set1"
   ],
   "id": "dbae16f5627232f3",
   "outputs": [
    {
     "data": {
      "text/plain": [
       "True"
      ]
     },
     "execution_count": 189,
     "metadata": {},
     "output_type": "execute_result"
    }
   ],
   "execution_count": 189
  },
  {
   "metadata": {
    "ExecuteTime": {
     "end_time": "2025-02-16T10:53:37.903809Z",
     "start_time": "2025-02-16T10:53:37.895748Z"
    }
   },
   "cell_type": "code",
   "source": [
    "# task6\n",
    "set1={1,2,3,4,5,6,4,3,2,1,7}\n",
    "len(set1)"
   ],
   "id": "d08804cb365bdfb4",
   "outputs": [
    {
     "data": {
      "text/plain": [
       "7"
      ]
     },
     "execution_count": 190,
     "metadata": {},
     "output_type": "execute_result"
    }
   ],
   "execution_count": 190
  },
  {
   "metadata": {
    "ExecuteTime": {
     "end_time": "2025-02-16T10:54:08.422370Z",
     "start_time": "2025-02-16T10:54:08.416646Z"
    }
   },
   "cell_type": "code",
   "source": [
    "# task7\n",
    "list1=[1,2,3,4,5,6,4,3,2,1,7]\n",
    "set2=set(list1)\n",
    "set2"
   ],
   "id": "c4e03baa7b0f93b2",
   "outputs": [
    {
     "data": {
      "text/plain": [
       "{1, 2, 3, 4, 5, 6, 7}"
      ]
     },
     "execution_count": 191,
     "metadata": {},
     "output_type": "execute_result"
    }
   ],
   "execution_count": 191
  },
  {
   "metadata": {
    "ExecuteTime": {
     "end_time": "2025-02-16T10:54:50.010188Z",
     "start_time": "2025-02-16T10:54:49.998972Z"
    }
   },
   "cell_type": "code",
   "source": [
    "# task8\n",
    "set1={1,2,3,4,5,6,4,3,2,1,7}\n",
    "element=3\n",
    "set1.remove(element)\n",
    "set1"
   ],
   "id": "3f2a7082b46d068c",
   "outputs": [
    {
     "data": {
      "text/plain": [
       "{1, 2, 4, 5, 6, 7}"
      ]
     },
     "execution_count": 192,
     "metadata": {},
     "output_type": "execute_result"
    }
   ],
   "execution_count": 192
  },
  {
   "metadata": {
    "ExecuteTime": {
     "end_time": "2025-02-16T10:55:40.846150Z",
     "start_time": "2025-02-16T10:55:40.841435Z"
    }
   },
   "cell_type": "code",
   "source": [
    "# task9\n",
    "set1={1,2,3,4,5,6,4,3,2,1,7}\n",
    "set1.clear()\n",
    "set1"
   ],
   "id": "618404e5e5869d11",
   "outputs": [
    {
     "data": {
      "text/plain": [
       "set()"
      ]
     },
     "execution_count": 196,
     "metadata": {},
     "output_type": "execute_result"
    }
   ],
   "execution_count": 196
  },
  {
   "metadata": {
    "ExecuteTime": {
     "end_time": "2025-02-16T11:02:48.981720Z",
     "start_time": "2025-02-16T11:02:48.979350Z"
    }
   },
   "cell_type": "code",
   "source": [
    "# task9\n",
    "set1={}\n",
    "set1==set([])"
   ],
   "id": "75195500c5f58c3b",
   "outputs": [
    {
     "data": {
      "text/plain": [
       "False"
      ]
     },
     "execution_count": 212,
     "metadata": {},
     "output_type": "execute_result"
    }
   ],
   "execution_count": 212
  },
  {
   "metadata": {
    "ExecuteTime": {
     "end_time": "2025-02-16T10:59:20.744574Z",
     "start_time": "2025-02-16T10:59:20.738364Z"
    }
   },
   "cell_type": "code",
   "source": [
    "# task11\n",
    "set1 = {1, 2, 3, 4, 5, 6, 4, 3, 2, 1, 7}\n",
    "set2 = {2, 5, 3, 4, 2, 6, 1}\n",
    "set2.symmetric_difference(set1)"
   ],
   "id": "96bbecf4a718c202",
   "outputs": [
    {
     "data": {
      "text/plain": [
       "{7}"
      ]
     },
     "execution_count": 206,
     "metadata": {},
     "output_type": "execute_result"
    }
   ],
   "execution_count": 206
  },
  {
   "metadata": {
    "ExecuteTime": {
     "end_time": "2025-02-16T10:59:53.263985Z",
     "start_time": "2025-02-16T10:59:53.256526Z"
    }
   },
   "cell_type": "code",
   "source": [
    "# task12\n",
    "set1={1,2,3,4,5,6,4,3,2,1,7}\n",
    "element=11\n",
    "set1.add(element)\n",
    "set1"
   ],
   "id": "70b17148bec7e156",
   "outputs": [
    {
     "data": {
      "text/plain": [
       "{1, 2, 3, 4, 5, 6, 7, 11}"
      ]
     },
     "execution_count": 207,
     "metadata": {},
     "output_type": "execute_result"
    }
   ],
   "execution_count": 207
  },
  {
   "metadata": {
    "ExecuteTime": {
     "end_time": "2025-02-16T11:01:09.443083Z",
     "start_time": "2025-02-16T11:01:09.436759Z"
    }
   },
   "cell_type": "code",
   "source": [
    "# task13\n",
    "set1={1,2,3,4,5,6,4,3,2,1,7}\n",
    "set1.pop()\n",
    "set1"
   ],
   "id": "34253f9c46de22ef",
   "outputs": [
    {
     "data": {
      "text/plain": [
       "{2, 3, 4, 5, 6, 7}"
      ]
     },
     "execution_count": 208,
     "metadata": {},
     "output_type": "execute_result"
    }
   ],
   "execution_count": 208
  },
  {
   "metadata": {
    "ExecuteTime": {
     "end_time": "2025-02-16T11:01:52.714891Z",
     "start_time": "2025-02-16T11:01:52.708873Z"
    }
   },
   "cell_type": "code",
   "source": [
    "# task14\n",
    "set1={1,2,3,4,5,6,4,3,2,1,7}\n",
    "max(set1)"
   ],
   "id": "89c9ff269220396e",
   "outputs": [
    {
     "data": {
      "text/plain": [
       "7"
      ]
     },
     "execution_count": 209,
     "metadata": {},
     "output_type": "execute_result"
    }
   ],
   "execution_count": 209
  },
  {
   "metadata": {
    "ExecuteTime": {
     "end_time": "2025-02-16T11:02:03.021320Z",
     "start_time": "2025-02-16T11:02:03.014519Z"
    }
   },
   "cell_type": "code",
   "source": [
    "# task15\n",
    "set1={1,2,3,4,5,6,4,3,2,1,7}\n",
    "min(set1)"
   ],
   "id": "33e155c020160b01",
   "outputs": [
    {
     "data": {
      "text/plain": [
       "1"
      ]
     },
     "execution_count": 210,
     "metadata": {},
     "output_type": "execute_result"
    }
   ],
   "execution_count": 210
  },
  {
   "metadata": {
    "ExecuteTime": {
     "end_time": "2025-02-16T11:03:07.051362Z",
     "start_time": "2025-02-16T11:03:07.043815Z"
    }
   },
   "cell_type": "code",
   "source": [
    "# task18\n",
    "set1=set(range(1,10))\n",
    "set1"
   ],
   "id": "ffa72dc66277229c",
   "outputs": [
    {
     "data": {
      "text/plain": [
       "{1, 2, 3, 4, 5, 6, 7, 8, 9}"
      ]
     },
     "execution_count": 213,
     "metadata": {},
     "output_type": "execute_result"
    }
   ],
   "execution_count": 213
  },
  {
   "metadata": {
    "ExecuteTime": {
     "end_time": "2025-02-16T11:04:02.628294Z",
     "start_time": "2025-02-16T11:04:02.620731Z"
    }
   },
   "cell_type": "code",
   "source": [
    "# task19\n",
    "list1=[1,2,3,4,5,6,4,3,2,1,7]\n",
    "list2=[4,7,9,11,2,34]\n",
    "merged=set(list1+list2)\n",
    "merged"
   ],
   "id": "d831d556262911",
   "outputs": [
    {
     "data": {
      "text/plain": [
       "{1, 2, 3, 4, 5, 6, 7, 9, 11, 34}"
      ]
     },
     "execution_count": 214,
     "metadata": {},
     "output_type": "execute_result"
    }
   ],
   "execution_count": 214
  },
  {
   "metadata": {
    "ExecuteTime": {
     "end_time": "2025-02-16T11:05:20.761360Z",
     "start_time": "2025-02-16T11:05:20.753408Z"
    }
   },
   "cell_type": "code",
   "source": [
    "set1={1,2,3,4,5,6,4,3,2,1,7}\n",
    "set2={41,72,9,11,24,34}\n",
    "set1.isdisjoint(set2)"
   ],
   "id": "7fedd0d63b3f6dba",
   "outputs": [
    {
     "data": {
      "text/plain": [
       "True"
      ]
     },
     "execution_count": 217,
     "metadata": {},
     "output_type": "execute_result"
    }
   ],
   "execution_count": 217
  },
  {
   "metadata": {
    "ExecuteTime": {
     "end_time": "2025-02-16T11:06:18.195839Z",
     "start_time": "2025-02-16T11:06:18.189608Z"
    }
   },
   "cell_type": "code",
   "source": [
    "# task21\n",
    "list1=[1,2,3,4,5,6,4,3,2,1,7]\n",
    "tempset=set(list1)\n",
    "newlist=list(tempset)\n",
    "newlist"
   ],
   "id": "81c345694f30ea1d",
   "outputs": [
    {
     "data": {
      "text/plain": [
       "[1, 2, 3, 4, 5, 6, 7]"
      ]
     },
     "execution_count": 218,
     "metadata": {},
     "output_type": "execute_result"
    }
   ],
   "execution_count": 218
  },
  {
   "metadata": {
    "ExecuteTime": {
     "end_time": "2025-02-16T11:06:38.832129Z",
     "start_time": "2025-02-16T11:06:38.825502Z"
    }
   },
   "cell_type": "code",
   "source": [
    "# task21\n",
    "list1=[1,2,3,4,5,6,4,3,2,1,7]\n",
    "tempset=set(list1)\n",
    "newlist=list(tempset)\n",
    "len(newlist)"
   ],
   "id": "806e1e7b9ec0baf8",
   "outputs": [
    {
     "data": {
      "text/plain": [
       "7"
      ]
     },
     "execution_count": 219,
     "metadata": {},
     "output_type": "execute_result"
    }
   ],
   "execution_count": 219
  },
  {
   "metadata": {
    "ExecuteTime": {
     "end_time": "2025-02-16T11:08:39.233929Z",
     "start_time": "2025-02-16T11:08:39.225847Z"
    }
   },
   "cell_type": "code",
   "source": "",
   "id": "2e952d5d6d004ae1",
   "outputs": [
    {
     "ename": "TypeError",
     "evalue": "'float' object is not iterable",
     "output_type": "error",
     "traceback": [
      "\u001B[0;31m---------------------------------------------------------------------------\u001B[0m",
      "\u001B[0;31mTypeError\u001B[0m                                 Traceback (most recent call last)",
      "Cell \u001B[0;32mIn[224], line 3\u001B[0m\n\u001B[1;32m      1\u001B[0m \u001B[38;5;28;01mfrom\u001B[39;00m\u001B[38;5;250m \u001B[39m\u001B[38;5;21;01mrandom\u001B[39;00m\u001B[38;5;250m \u001B[39m\u001B[38;5;28;01mimport\u001B[39;00m randint, random\n\u001B[0;32m----> 3\u001B[0m l\u001B[38;5;241m=\u001B[39m\u001B[38;5;28;43mset\u001B[39;49m\u001B[43m(\u001B[49m\u001B[43mrandom\u001B[49m\u001B[43m(\u001B[49m\u001B[43m)\u001B[49m\u001B[43m)\u001B[49m\n",
      "\u001B[0;31mTypeError\u001B[0m: 'float' object is not iterable"
     ]
    }
   ],
   "execution_count": 224
  },
  {
   "metadata": {},
   "cell_type": "code",
   "outputs": [],
   "execution_count": null,
   "source": "",
   "id": "f8c1e4a32944e3b0"
  },
  {
   "metadata": {},
   "cell_type": "markdown",
   "source": "Dictionary",
   "id": "de321bfc8c093f60"
  },
  {
   "metadata": {
    "ExecuteTime": {
     "end_time": "2025-02-16T11:12:51.870560Z",
     "start_time": "2025-02-16T11:12:51.866303Z"
    }
   },
   "cell_type": "code",
   "source": [
    "# task1\n",
    "dictionary={'a':'Orifjon','b':'name', 'c':'surname'}\n",
    "try:\n",
    "    print(dictionary['d'])\n",
    "except KeyError:\n",
    "    print(\"no such key\")"
   ],
   "id": "8ab85f5b5b0c6501",
   "outputs": [
    {
     "name": "stdout",
     "output_type": "stream",
     "text": [
      "no such key\n"
     ]
    }
   ],
   "execution_count": 232
  },
  {
   "metadata": {
    "ExecuteTime": {
     "end_time": "2025-02-16T11:13:42.631743Z",
     "start_time": "2025-02-16T11:13:42.622524Z"
    }
   },
   "cell_type": "code",
   "source": [
    "# task2\n",
    "dictionary={'a':'Orifjon','b':'name', 'c':'surname'}\n",
    "key='a'\n",
    "key in dictionary"
   ],
   "id": "c5783aa1eabd0aa1",
   "outputs": [
    {
     "data": {
      "text/plain": [
       "True"
      ]
     },
     "execution_count": 233,
     "metadata": {},
     "output_type": "execute_result"
    }
   ],
   "execution_count": 233
  },
  {
   "metadata": {
    "ExecuteTime": {
     "end_time": "2025-02-16T11:15:00.824523Z",
     "start_time": "2025-02-16T11:15:00.814283Z"
    }
   },
   "cell_type": "code",
   "source": [
    "# task3\n",
    "dictionary={'a':'Orifjon','b':'name', 'c':'surname'}\n",
    "len(dictionary)"
   ],
   "id": "4a2fddd358963e6b",
   "outputs": [
    {
     "data": {
      "text/plain": [
       "3"
      ]
     },
     "execution_count": 236,
     "metadata": {},
     "output_type": "execute_result"
    }
   ],
   "execution_count": 236
  },
  {
   "metadata": {
    "ExecuteTime": {
     "end_time": "2025-02-16T11:15:27.902649Z",
     "start_time": "2025-02-16T11:15:27.897410Z"
    }
   },
   "cell_type": "code",
   "source": [
    "# task4\n",
    "dictionary={'a':'Orifjon','b':'name', 'c':'surname'}\n",
    "dictionary.keys()"
   ],
   "id": "9981dd8b468136c6",
   "outputs": [
    {
     "data": {
      "text/plain": [
       "dict_keys(['a', 'b', 'c'])"
      ]
     },
     "execution_count": 237,
     "metadata": {},
     "output_type": "execute_result"
    }
   ],
   "execution_count": 237
  },
  {
   "metadata": {
    "ExecuteTime": {
     "end_time": "2025-02-16T11:15:34.308443Z",
     "start_time": "2025-02-16T11:15:34.303680Z"
    }
   },
   "cell_type": "code",
   "source": [
    "# task5\n",
    "dictionary={'a':'Orifjon','b':'name', 'c':'surname'}\n",
    "dictionary.values()"
   ],
   "id": "37a248b855b02bc5",
   "outputs": [
    {
     "data": {
      "text/plain": [
       "dict_values(['Orifjon', 'name', 'surname'])"
      ]
     },
     "execution_count": 238,
     "metadata": {},
     "output_type": "execute_result"
    }
   ],
   "execution_count": 238
  },
  {
   "metadata": {
    "ExecuteTime": {
     "end_time": "2025-02-16T16:43:01.579085Z",
     "start_time": "2025-02-16T16:43:01.565920Z"
    }
   },
   "cell_type": "code",
   "source": [
    "# task6\n",
    "dictionary={'a':'Orifjon','b':'name', 'c':'surname'}\n",
    "dictionary2={'e':\"age\",'d':'phone number'}\n",
    "dictionary.update(dictionary2)\n",
    "dictionary"
   ],
   "id": "d27597e49f0faace",
   "outputs": [
    {
     "data": {
      "text/plain": [
       "{'a': 'Orifjon', 'b': 'name', 'c': 'surname', 'e': 'age', 'd': 'phone number'}"
      ]
     },
     "execution_count": 242,
     "metadata": {},
     "output_type": "execute_result"
    }
   ],
   "execution_count": 242
  },
  {
   "metadata": {
    "ExecuteTime": {
     "end_time": "2025-02-16T16:46:03.789088Z",
     "start_time": "2025-02-16T16:46:03.779958Z"
    }
   },
   "cell_type": "code",
   "source": [
    "dictionary={'a':'Orifjon','b':'name', 'c':'surname'}\n",
    "try:\n",
    "    dictionary.pop('a')\n",
    "except KeyError:\n",
    "    print(\"no such key\")"
   ],
   "id": "4bac7ace55964551",
   "outputs": [],
   "execution_count": 243
  },
  {
   "metadata": {
    "ExecuteTime": {
     "end_time": "2025-02-16T16:46:48.542739Z",
     "start_time": "2025-02-16T16:46:48.536696Z"
    }
   },
   "cell_type": "code",
   "source": [
    "dictionary={'a':'Orifjon','b':'name', 'c':'surname'}\n",
    "dictionary.clear()\n",
    "dictionary"
   ],
   "id": "8b3a3ca385c0fe78",
   "outputs": [
    {
     "data": {
      "text/plain": [
       "{}"
      ]
     },
     "execution_count": 244,
     "metadata": {},
     "output_type": "execute_result"
    }
   ],
   "execution_count": 244
  },
  {
   "metadata": {
    "ExecuteTime": {
     "end_time": "2025-02-16T16:47:37.538267Z",
     "start_time": "2025-02-16T16:47:37.534338Z"
    }
   },
   "cell_type": "code",
   "source": [
    "dictionary={'a':'Orifjon','b':'name', 'c':'surname'}\n",
    "dictionary=={}"
   ],
   "id": "20b90716b84de534",
   "outputs": [
    {
     "data": {
      "text/plain": [
       "True"
      ]
     },
     "execution_count": 246,
     "metadata": {},
     "output_type": "execute_result"
    }
   ],
   "execution_count": 246
  },
  {
   "metadata": {
    "ExecuteTime": {
     "end_time": "2025-02-16T16:50:19.934295Z",
     "start_time": "2025-02-16T16:50:19.925415Z"
    }
   },
   "cell_type": "code",
   "source": [
    "dictionary={'a':'Orifjon','b':'name', 'c':'surname'}\n",
    "key='a'\n",
    "dictionary.get(key)"
   ],
   "id": "9eef2f70d75ca28b",
   "outputs": [
    {
     "data": {
      "text/plain": [
       "'Orifjon'"
      ]
     },
     "execution_count": 248,
     "metadata": {},
     "output_type": "execute_result"
    }
   ],
   "execution_count": 248
  },
  {
   "metadata": {
    "ExecuteTime": {
     "end_time": "2025-02-16T16:51:40.056527Z",
     "start_time": "2025-02-16T16:51:40.052035Z"
    }
   },
   "cell_type": "code",
   "source": [
    "dictionary={'a':'Orifjon','b':'name', 'c':'surname'}\n",
    "key='a'\n",
    "dictionary['a']='Salom'\n",
    "dictionary"
   ],
   "id": "448034eb7a04bec4",
   "outputs": [
    {
     "data": {
      "text/plain": [
       "{'a': 'Salom', 'b': 'name', 'c': 'surname'}"
      ]
     },
     "execution_count": 252,
     "metadata": {},
     "output_type": "execute_result"
    }
   ],
   "execution_count": 252
  },
  {
   "metadata": {
    "ExecuteTime": {
     "end_time": "2025-02-16T16:55:06.956998Z",
     "start_time": "2025-02-16T16:55:06.945910Z"
    }
   },
   "cell_type": "code",
   "source": [
    "dictionary={'a':'Orifjon','b':'name', 'c':'surname'}\n",
    "list1=list(dictionary.values())\n",
    "list1.count('name')"
   ],
   "id": "1ca32d81ef43497",
   "outputs": [
    {
     "data": {
      "text/plain": [
       "1"
      ]
     },
     "execution_count": 254,
     "metadata": {},
     "output_type": "execute_result"
    }
   ],
   "execution_count": 254
  },
  {
   "metadata": {
    "ExecuteTime": {
     "end_time": "2025-02-16T17:01:04.365131Z",
     "start_time": "2025-02-16T17:01:04.359060Z"
    }
   },
   "cell_type": "code",
   "source": [
    "dictionary={'a':'Orifjon','b':'name', 'c':'surname'}\n",
    "keys=list(dictionary.keys())\n",
    "values=list(dictionary.values())\n",
    "dictionary1=dict(zip(values,keys))\n",
    "dictionary1"
   ],
   "id": "dde86786721de4d",
   "outputs": [
    {
     "data": {
      "text/plain": [
       "{'Orifjon': 'a', 'name': 'b', 'surname': 'c'}"
      ]
     },
     "execution_count": 258,
     "metadata": {},
     "output_type": "execute_result"
    }
   ],
   "execution_count": 258
  },
  {
   "metadata": {
    "ExecuteTime": {
     "end_time": "2025-02-16T17:07:11.825092Z",
     "start_time": "2025-02-16T17:07:11.815137Z"
    }
   },
   "cell_type": "code",
   "source": [
    "dictionary={'a':'Orifjon','b':'surname', 'c':'name'}\n",
    "value='name'\n",
    "keys=list(dictionary.keys())\n",
    "values=list(dictionary.values())\n",
    "dictionary1=dict(zip(values,keys))\n",
    "dictionary1[value]"
   ],
   "id": "bf8a8c1b18e0e2c0",
   "outputs": [
    {
     "data": {
      "text/plain": [
       "'c'"
      ]
     },
     "execution_count": 260,
     "metadata": {},
     "output_type": "execute_result"
    }
   ],
   "execution_count": 260
  },
  {
   "metadata": {
    "ExecuteTime": {
     "end_time": "2025-02-16T17:08:45.608050Z",
     "start_time": "2025-02-16T17:08:45.600010Z"
    }
   },
   "cell_type": "code",
   "source": [
    "list1=[1,2,3]\n",
    "list2=[\"salom\",'hayr','bopti']\n",
    "dictionry=dict(zip(list1,list2))\n",
    "dictionry"
   ],
   "id": "24e342c913e6151a",
   "outputs": [
    {
     "data": {
      "text/plain": [
       "{1: 'bopti', 2: 'hayr', 3: 'salom'}"
      ]
     },
     "execution_count": 262,
     "metadata": {},
     "output_type": "execute_result"
    }
   ],
   "execution_count": 262
  },
  {
   "metadata": {
    "ExecuteTime": {
     "end_time": "2025-02-16T17:11:38.131202Z",
     "start_time": "2025-02-16T17:11:38.124022Z"
    }
   },
   "cell_type": "code",
   "source": [
    "dictionary={'a':'Orifjon','b':'surname', 'c':'name'}\n",
    "\n",
    "any(isinstance(value,list) for value in dictionary.values())"
   ],
   "id": "bbf3aea85786552b",
   "outputs": [
    {
     "data": {
      "text/plain": [
       "False"
      ]
     },
     "execution_count": 264,
     "metadata": {},
     "output_type": "execute_result"
    }
   ],
   "execution_count": 264
  },
  {
   "metadata": {
    "ExecuteTime": {
     "end_time": "2025-02-16T17:15:29.513910Z",
     "start_time": "2025-02-16T17:15:29.508394Z"
    }
   },
   "cell_type": "code",
   "source": [
    "dictionry={'a':{'e':\"qo'y\",'f':\"age\"},'b':'surname', 'c':'name'}\n",
    "dictionry['a']['f']"
   ],
   "id": "67bd7e9f3784053",
   "outputs": [
    {
     "data": {
      "text/plain": [
       "'age'"
      ]
     },
     "execution_count": 269,
     "metadata": {},
     "output_type": "execute_result"
    }
   ],
   "execution_count": 269
  },
  {
   "metadata": {
    "ExecuteTime": {
     "end_time": "2025-02-16T17:16:53.752819Z",
     "start_time": "2025-02-16T17:16:53.746835Z"
    }
   },
   "cell_type": "code",
   "source": [
    "dictionary={'a':'Orifjon','b':'name', 'c':'surname','d':[]}\n",
    "dictionary"
   ],
   "id": "5be0780bc74844e6",
   "outputs": [
    {
     "data": {
      "text/plain": [
       "{'a': 'Orifjon', 'b': 'name', 'c': 'surname', 'd': []}"
      ]
     },
     "execution_count": 270,
     "metadata": {},
     "output_type": "execute_result"
    }
   ],
   "execution_count": 270
  },
  {
   "metadata": {
    "ExecuteTime": {
     "end_time": "2025-02-16T17:17:23.256136Z",
     "start_time": "2025-02-16T17:17:23.250161Z"
    }
   },
   "cell_type": "code",
   "source": [
    "dictionary={'a':'Orifjon','b':'name', 'c':'name'}\n",
    "set1=set(dictionary.values())\n",
    "len(set1)"
   ],
   "id": "28825039f0ba636",
   "outputs": [
    {
     "data": {
      "text/plain": [
       "2"
      ]
     },
     "execution_count": 271,
     "metadata": {},
     "output_type": "execute_result"
    }
   ],
   "execution_count": 271
  },
  {
   "metadata": {
    "ExecuteTime": {
     "end_time": "2025-02-16T17:21:37.169258Z",
     "start_time": "2025-02-16T17:21:37.163933Z"
    }
   },
   "cell_type": "code",
   "source": [
    "dictionary={'a':'Orifjon','c':'name', 'b':'surname'}\n",
    "sorted_dictionary=sorted(dictionary.items())\n",
    "sorted_dictionary"
   ],
   "id": "10fc5e586d73e0a0",
   "outputs": [
    {
     "data": {
      "text/plain": [
       "[('a', 'Orifjon'), ('b', 'surname'), ('c', 'name')]"
      ]
     },
     "execution_count": 275,
     "metadata": {},
     "output_type": "execute_result"
    }
   ],
   "execution_count": 275
  },
  {
   "metadata": {
    "ExecuteTime": {
     "end_time": "2025-02-16T17:23:46.958193Z",
     "start_time": "2025-02-16T17:23:46.953075Z"
    }
   },
   "cell_type": "code",
   "source": [
    "dictionary={'a':'orifjon','c':'name', 'b':'surname'}\n",
    "sorted_dictionary=dict(sorted(dictionary.items(), key=lambda item:item[1]))\n",
    "sorted_dictionary"
   ],
   "id": "25c46c3ef371cdfa",
   "outputs": [
    {
     "data": {
      "text/plain": [
       "{'c': 'name', 'a': 'orifjon', 'b': 'surname'}"
      ]
     },
     "execution_count": 280,
     "metadata": {},
     "output_type": "execute_result"
    }
   ],
   "execution_count": 280
  },
  {
   "metadata": {
    "ExecuteTime": {
     "end_time": "2025-02-16T17:27:52.891719Z",
     "start_time": "2025-02-16T17:27:52.886365Z"
    }
   },
   "cell_type": "code",
   "source": [
    "dictionary={'a':'Orifjon','b':'surname', 'c':'name'}\n",
    "dict1={'a':'salom','d':'phone number'}\n",
    "set(dict1.keys())==set(dictionary.keys())"
   ],
   "id": "50c29d55a787a374",
   "outputs": [
    {
     "data": {
      "text/plain": [
       "False"
      ]
     },
     "execution_count": 284,
     "metadata": {},
     "output_type": "execute_result"
    }
   ],
   "execution_count": 284
  },
  {
   "metadata": {
    "ExecuteTime": {
     "end_time": "2025-02-16T17:32:33.422012Z",
     "start_time": "2025-02-16T17:32:33.416789Z"
    }
   },
   "cell_type": "code",
   "source": [
    "tuple1=([1,12,2,32],[3,45,4,45])\n",
    "dictionray=dict(zip(tuple1[0],tuple1[1]))\n",
    "dictionray"
   ],
   "id": "7f74443784fd041f",
   "outputs": [
    {
     "data": {
      "text/plain": [
       "{1: 3, 12: 45, 2: 4, 32: 45}"
      ]
     },
     "execution_count": 289,
     "metadata": {},
     "output_type": "execute_result"
    }
   ],
   "execution_count": 289
  },
  {
   "metadata": {
    "ExecuteTime": {
     "end_time": "2025-02-16T17:35:03.311127Z",
     "start_time": "2025-02-16T17:35:03.307815Z"
    }
   },
   "cell_type": "code",
   "source": [
    "dictionary={'a':'Orifjon','b':'surname', 'c':'name'}\n",
    "list1=list(dictionary.keys())\n",
    "list2=list(dictionary.values())\n",
    "print(f\"{list1[0]} : {list2[0]}\")"
   ],
   "id": "9d7242f557b16bcf",
   "outputs": [
    {
     "name": "stdout",
     "output_type": "stream",
     "text": [
      "a : Orifjon\n"
     ]
    }
   ],
   "execution_count": 291
  },
  {
   "metadata": {},
   "cell_type": "code",
   "outputs": [],
   "execution_count": null,
   "source": "",
   "id": "2472fad9e1239968"
  }
 ],
 "metadata": {
  "kernelspec": {
   "display_name": "Python 3",
   "language": "python",
   "name": "python3"
  },
  "language_info": {
   "codemirror_mode": {
    "name": "ipython",
    "version": 2
   },
   "file_extension": ".py",
   "mimetype": "text/x-python",
   "name": "python",
   "nbconvert_exporter": "python",
   "pygments_lexer": "ipython2",
   "version": "2.7.6"
  }
 },
 "nbformat": 4,
 "nbformat_minor": 5
}
