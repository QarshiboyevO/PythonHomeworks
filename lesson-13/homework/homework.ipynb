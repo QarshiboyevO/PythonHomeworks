{
 "cells": [
  {
   "cell_type": "code",
   "id": "initial_id",
   "metadata": {
    "collapsed": true,
    "ExecuteTime": {
     "end_time": "2025-03-31T17:28:51.952309Z",
     "start_time": "2025-03-31T17:28:51.939059Z"
    }
   },
   "source": [
    "import numpy as np\n",
    "\n",
    "import random\n",
    "a1 = np.array([1, 2, 3])\n",
    "type(a1)"
   ],
   "outputs": [
    {
     "data": {
      "text/plain": [
       "numpy.ndarray"
      ]
     },
     "execution_count": 17,
     "metadata": {},
     "output_type": "execute_result"
    }
   ],
   "execution_count": 17
  },
  {
   "metadata": {
    "ExecuteTime": {
     "end_time": "2025-03-31T17:21:58.591985Z",
     "start_time": "2025-03-31T17:21:58.522804Z"
    }
   },
   "cell_type": "code",
   "source": [
    "array=np.arange(10,49)\n",
    "array"
   ],
   "id": "8cf9d71925d47202",
   "outputs": [
    {
     "data": {
      "text/plain": [
       "array([10, 11, 12, 13, 14, 15, 16, 17, 18, 19, 20, 21, 22, 23, 24, 25, 26,\n",
       "       27, 28, 29, 30, 31, 32, 33, 34, 35, 36, 37, 38, 39, 40, 41, 42, 43,\n",
       "       44, 45, 46, 47, 48])"
      ]
     },
     "execution_count": 6,
     "metadata": {},
     "output_type": "execute_result"
    }
   ],
   "execution_count": 6
  },
  {
   "metadata": {
    "ExecuteTime": {
     "end_time": "2025-03-31T17:25:36.661922Z",
     "start_time": "2025-03-31T17:25:36.649336Z"
    }
   },
   "cell_type": "code",
   "source": [
    "matrix=np.matrix([[1,2,3],[4,5,6],[7,8,9]])\n",
    "print(matrix)\n"
   ],
   "id": "871c29b8ddc6064",
   "outputs": [
    {
     "name": "stdout",
     "output_type": "stream",
     "text": [
      "[[1 2 3]\n",
      " [4 5 6]\n",
      " [7 8 9]]\n"
     ]
    }
   ],
   "execution_count": 14
  },
  {
   "metadata": {
    "ExecuteTime": {
     "end_time": "2025-03-31T17:25:21.684381Z",
     "start_time": "2025-03-31T17:25:21.675156Z"
    }
   },
   "cell_type": "code",
   "source": [
    "matrix_identity=np.identity(3)\n",
    "print(matrix_identity)"
   ],
   "id": "8e56b5729007a35",
   "outputs": [
    {
     "name": "stdout",
     "output_type": "stream",
     "text": [
      "[[1. 0. 0.]\n",
      " [0. 1. 0.]\n",
      " [0. 0. 1.]]\n"
     ]
    }
   ],
   "execution_count": 13
  },
  {
   "metadata": {
    "ExecuteTime": {
     "end_time": "2025-03-31T17:29:38.814861Z",
     "start_time": "2025-03-31T17:29:38.794416Z"
    }
   },
   "cell_type": "code",
   "source": [
    "\n",
    "random_array=np.random.randint(1,10, size=(3,3,3))\n",
    "print(random_array)"
   ],
   "id": "d1b34559f34c762e",
   "outputs": [
    {
     "name": "stdout",
     "output_type": "stream",
     "text": [
      "[[[4 6 2]\n",
      "  [1 3 4]\n",
      "  [9 5 6]]\n",
      "\n",
      " [[2 4 2]\n",
      "  [3 8 9]\n",
      "  [7 8 4]]\n",
      "\n",
      " [[2 4 4]\n",
      "  [8 8 4]\n",
      "  [4 9 3]]]\n"
     ]
    }
   ],
   "execution_count": 20
  },
  {
   "metadata": {
    "ExecuteTime": {
     "end_time": "2025-03-31T17:32:44.132103Z",
     "start_time": "2025-03-31T17:32:44.123989Z"
    }
   },
   "cell_type": "code",
   "source": [
    "rand10x10=np.random.randint(1,50, size=(10,10))\n",
    "maximum=np.max(rand10x10)\n",
    "minimum=np.min(rand10x10)\n",
    "print(f\"{rand10x10}\\n maximum: {maximum} minimum: {minimum}\")"
   ],
   "id": "1c7a1dcecf4b4536",
   "outputs": [
    {
     "name": "stdout",
     "output_type": "stream",
     "text": [
      "[[48 20 11  8 15 28 18 26 42 23]\n",
      " [37 32  6 38 44  5  1 23  6 42]\n",
      " [49 47 37 20 37 45 37 24 31 27]\n",
      " [ 1 24 10 36 22 23  7  7 45 40]\n",
      " [42 41 33 39 48  1  8 27 20 32]\n",
      " [24  3 49  2 23 14 22 32 23  1]\n",
      " [41 36 17 15 37 20 19 18  8 23]\n",
      " [ 9  6 28 21 17 48 14 40 35  9]\n",
      " [14 41 34 31 46  7 47 10 37 23]\n",
      " [23 23 15 26 41 27 33 12  3 17]]\n",
      " maximum: 49 minimum: 1\n"
     ]
    }
   ],
   "execution_count": 24
  },
  {
   "metadata": {
    "ExecuteTime": {
     "end_time": "2025-03-31T17:33:35.207939Z",
     "start_time": "2025-03-31T17:33:35.199076Z"
    }
   },
   "cell_type": "code",
   "source": [
    "randvec=np.random.randint(1,10, size=(30))\n",
    "mean=np.mean(randvec)\n",
    "print(randvec, \"mean: \", mean)"
   ],
   "id": "411626b5df5832a7",
   "outputs": [
    {
     "name": "stdout",
     "output_type": "stream",
     "text": [
      "[3 8 9 9 5 9 6 1 7 9 8 6 7 8 9 2 4 8 1 6 3 8 3 8 4 2 1 1 1 3] mean:  5.3\n"
     ]
    }
   ],
   "execution_count": 25
  },
  {
   "metadata": {
    "ExecuteTime": {
     "end_time": "2025-03-31T17:49:44.403643Z",
     "start_time": "2025-03-31T17:49:44.365246Z"
    }
   },
   "cell_type": "code",
   "source": [
    "matrix=np.random.randint(1,20 ,size=(5,5))\n",
    "normat=(matrix-matrix.min())/(matrix.max()-matrix.min())\n",
    "\n",
    "print(normat)\n",
    "\n"
   ],
   "id": "d82bea7856e736bd",
   "outputs": [
    {
     "name": "stdout",
     "output_type": "stream",
     "text": [
      "[[0.         0.47058824 0.35294118 0.70588235 0.05882353]\n",
      " [0.11764706 0.         0.58823529 0.23529412 0.88235294]\n",
      " [0.23529412 0.23529412 0.52941176 0.88235294 0.41176471]\n",
      " [0.88235294 0.88235294 0.70588235 0.70588235 0.11764706]\n",
      " [0.41176471 0.88235294 0.35294118 1.         0.52941176]]\n"
     ]
    }
   ],
   "execution_count": 39
  },
  {
   "metadata": {
    "ExecuteTime": {
     "end_time": "2025-03-31T17:53:01.386014Z",
     "start_time": "2025-03-31T17:53:01.369555Z"
    }
   },
   "cell_type": "code",
   "source": [
    "matrix1=np.random.randint(1,10,size=(5,3))\n",
    "matrix2=np.random.randint(1,10,size=(3,2))\n",
    "product=np.dot(matrix1,matrix2)\n",
    "print(product)\n"
   ],
   "id": "34deb117e027443c",
   "outputs": [
    {
     "name": "stdout",
     "output_type": "stream",
     "text": [
      "[[105 117]\n",
      " [ 51  51]\n",
      " [ 70  81]\n",
      " [ 61 114]\n",
      " [ 91 138]]\n"
     ]
    }
   ],
   "execution_count": 42
  },
  {
   "metadata": {
    "ExecuteTime": {
     "end_time": "2025-03-31T18:03:24.197679Z",
     "start_time": "2025-03-31T18:03:24.181786Z"
    }
   },
   "cell_type": "code",
   "source": [
    "matrix1=np.random.randint(1,10,size=(3,3))\n",
    "matrix2=np.random.randint(1,10,size=(3,3))\n",
    "dotproduct=np.dot(matrix1,matrix2)\n",
    "print(dotproduct)"
   ],
   "id": "988f28c56d59061f",
   "outputs": [
    {
     "name": "stdout",
     "output_type": "stream",
     "text": [
      "[[ 66  38  87]\n",
      " [ 66  66  80]\n",
      " [ 89  87 115]]\n"
     ]
    }
   ],
   "execution_count": 52
  },
  {
   "metadata": {
    "ExecuteTime": {
     "end_time": "2025-03-31T17:54:31.106121Z",
     "start_time": "2025-03-31T17:54:31.093481Z"
    }
   },
   "cell_type": "code",
   "source": [
    "matrix=np.random.randint(1,10,size=(4,4))\n",
    "print(matrix)\n",
    "print(matrix.T)"
   ],
   "id": "b33eaa0a58b987d5",
   "outputs": [
    {
     "name": "stdout",
     "output_type": "stream",
     "text": [
      "[[8 3 5 7]\n",
      " [4 9 6 1]\n",
      " [1 6 8 6]\n",
      " [1 7 1 7]]\n",
      "[[8 4 1 1]\n",
      " [3 9 6 7]\n",
      " [5 6 8 1]\n",
      " [7 1 6 7]]\n"
     ]
    }
   ],
   "execution_count": 44
  },
  {
   "metadata": {
    "ExecuteTime": {
     "end_time": "2025-03-31T18:03:27.486614Z",
     "start_time": "2025-03-31T18:03:27.471413Z"
    }
   },
   "cell_type": "code",
   "source": [
    "matrix=np.matrix([[1,2,3],[4,5,6],[7,8,9]])\n",
    "determinant=np.linalg.det(matrix)\n",
    "print(f'{determinant}')"
   ],
   "id": "3112624916a2fab2",
   "outputs": [
    {
     "name": "stdout",
     "output_type": "stream",
     "text": [
      "-9.51619735392994e-16\n"
     ]
    }
   ],
   "execution_count": 53
  },
  {
   "metadata": {
    "ExecuteTime": {
     "end_time": "2025-03-31T18:02:09.461196Z",
     "start_time": "2025-03-31T18:02:09.437007Z"
    }
   },
   "cell_type": "code",
   "source": [
    "MatrixA=np.matrix([[1,2,3],[4,5,6],[7,8,9],[10,11,12]])\n",
    "matrixB=np.matrix([[1,2,3,2],[4,5,6,4],[7,8,9,2]])\n",
    "product=np.dot(MatrixA,matrixB)\n",
    "print(product)"
   ],
   "id": "238e5515423c5ba3",
   "outputs": [
    {
     "name": "stdout",
     "output_type": "stream",
     "text": [
      "[[ 30  36  42  16]\n",
      " [ 66  81  96  40]\n",
      " [102 126 150  64]\n",
      " [138 171 204  88]]\n"
     ]
    }
   ],
   "execution_count": 50
  },
  {
   "metadata": {
    "ExecuteTime": {
     "end_time": "2025-03-31T18:02:48.414124Z",
     "start_time": "2025-03-31T18:02:48.396986Z"
    }
   },
   "cell_type": "code",
   "source": [
    "matrix=np.random.randint(1,10,size=(3,3))\n",
    "vector=np.random.randint(1,10,size=(3))\n",
    "product=np.dot(matrix,vector)\n",
    "print(product)"
   ],
   "id": "204512487c8728f5",
   "outputs": [
    {
     "name": "stdout",
     "output_type": "stream",
     "text": [
      "[ 50 110  48]\n"
     ]
    }
   ],
   "execution_count": 51
  },
  {
   "metadata": {
    "ExecuteTime": {
     "end_time": "2025-03-31T18:06:41.004649Z",
     "start_time": "2025-03-31T18:06:40.991290Z"
    }
   },
   "cell_type": "code",
   "source": [
    "matrix=np.matrix([[1,2,3,4,5],[3,5,6,2,7],[4,2,6,2,7],[6,3,7,8,2],[5,8,2,9,6]])\n",
    "row_wise=np.sum(matrix,axis=1)\n",
    "column_wise=np.sum(matrix,axis=0)\n",
    "print(row_wise, '\\n', column_wise)"
   ],
   "id": "a9ab8fe39ddca3ee",
   "outputs": [
    {
     "name": "stdout",
     "output_type": "stream",
     "text": [
      "[[15]\n",
      " [23]\n",
      " [21]\n",
      " [26]\n",
      " [30]] \n",
      " [[19 20 24 25 27]]\n"
     ]
    }
   ],
   "execution_count": 58
  },
  {
   "metadata": {
    "ExecuteTime": {
     "end_time": "2025-03-31T18:08:56.188012Z",
     "start_time": "2025-03-31T18:08:56.176816Z"
    }
   },
   "cell_type": "code",
   "source": [
    "# Ax=b\n",
    "A=np.matrix([[1,2,3],[4,5,6],[7,8,9]])\n",
    "b=np.matrix([2,3,5])\n",
    "x=b*np.invert(A)\n",
    "print(x)"
   ],
   "id": "5db475b9fb875cce",
   "outputs": [
    {
     "name": "stdout",
     "output_type": "stream",
     "text": [
      "[[-59 -69 -79]]\n"
     ]
    }
   ],
   "execution_count": 61
  },
  {
   "metadata": {},
   "cell_type": "code",
   "outputs": [],
   "execution_count": null,
   "source": "",
   "id": "8475397fe21a2c76"
  }
 ],
 "metadata": {
  "kernelspec": {
   "display_name": "Python 3",
   "language": "python",
   "name": "python3"
  },
  "language_info": {
   "codemirror_mode": {
    "name": "ipython",
    "version": 2
   },
   "file_extension": ".py",
   "mimetype": "text/x-python",
   "name": "python",
   "nbconvert_exporter": "python",
   "pygments_lexer": "ipython2",
   "version": "2.7.6"
  }
 },
 "nbformat": 4,
 "nbformat_minor": 5
}
