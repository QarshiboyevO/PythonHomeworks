{
 "cells": [
  {
   "cell_type": "code",
   "id": "initial_id",
   "metadata": {
    "collapsed": true,
    "ExecuteTime": {
     "end_time": "2025-03-30T09:23:21.643526Z",
     "start_time": "2025-03-30T09:23:21.632273Z"
    }
   },
   "source": [
    "import sqlite3\n",
    "\n",
    "with sqlite3.connect(\"roster.db\") as connection:\n",
    "\n",
    "    cursor = connection.cursor()\n",
    "    query= \"create Table Roster(Name text,Species text,age integer);\"\n",
    "    data=cursor.execute(query)\n",
    "\n",
    "\n"
   ],
   "outputs": [],
   "execution_count": 8
  },
  {
   "metadata": {
    "ExecuteTime": {
     "end_time": "2025-03-30T13:24:23.161913Z",
     "start_time": "2025-03-30T13:24:23.150036Z"
    }
   },
   "cell_type": "code",
   "source": [
    "with sqlite3.connect(\"roster.db\") as connection:\n",
    "    cursor = connection.cursor()\n",
    "    query = \"insert into Roster(Name, Species, age) values ('Benjamin Sisko','Human',40),('Jadzia Dax','Trill',300),('Kira Nerys','Bajoran',29)\"\n",
    "    data=cursor.execute(query)"
   ],
   "id": "a382c61f59335472",
   "outputs": [],
   "execution_count": 21
  },
  {
   "metadata": {
    "ExecuteTime": {
     "end_time": "2025-03-30T13:24:55.272489Z",
     "start_time": "2025-03-30T13:24:55.263229Z"
    }
   },
   "cell_type": "code",
   "source": [
    "with sqlite3.connect(\"roster.db\") as connection:\n",
    "    cursor = connection.cursor()\n",
    "    query = \"select * from Roster; update \"\n",
    "    cursor.execute(query)"
   ],
   "id": "cfc0446a38bfb59c",
   "outputs": [],
   "execution_count": 22
  },
  {
   "metadata": {
    "ExecuteTime": {
     "end_time": "2025-03-31T08:42:52.586008Z",
     "start_time": "2025-03-31T08:42:52.574909Z"
    }
   },
   "cell_type": "code",
   "source": [
    "with sqlite3.connect(\"roster.db\") as connection:\n",
    "    cursor = connection.cursor()\n",
    "    query = \"select Name, age from Roster where species ='Human'\"\n",
    "    data = cursor.execute(query)\n",
    "data.fetchall()"
   ],
   "id": "72de758f448f5a12",
   "outputs": [
    {
     "data": {
      "text/plain": [
       "[('Benjamin', 40),\n",
       " ('Benjamin', 40),\n",
       " ('Benjamin', 40),\n",
       " ('Benjamin Sisko', 40),\n",
       " ('Benjamin Sisko', 40)]"
      ]
     },
     "execution_count": 35,
     "metadata": {},
     "output_type": "execute_result"
    }
   ],
   "execution_count": 35
  },
  {
   "metadata": {
    "ExecuteTime": {
     "end_time": "2025-03-31T09:15:38.232777Z",
     "start_time": "2025-03-31T09:15:38.199618Z"
    }
   },
   "cell_type": "code",
   "source": [
    "with sqlite3.connect(\"roster.db\") as connection:\n",
    "    cursor = connection.cursor()\n",
    "    query = \"delete from Roster where age > 100\"\n",
    "    cursor.execute(query)\n",
    "    connection.commit()"
   ],
   "id": "6f346a2a3f03a3c9",
   "outputs": [],
   "execution_count": 48
  },
  {
   "metadata": {
    "ExecuteTime": {
     "end_time": "2025-03-31T09:04:12.896004Z",
     "start_time": "2025-03-31T09:04:12.891664Z"
    }
   },
   "cell_type": "code",
   "source": [
    "\n",
    "with sqlite3.connect(\"roster.db\") as connection:\n",
    "    cursor = connection.cursor()\n",
    "    # cursor.execute(\"ALTER TABLE ROSTER ADD column Rank text\")\n",
    "    cursor.execute(\"UPDATE Roster SET Rank='Captain' WHERE name = 'Benjamin Sisko'\")\n",
    "    cursor.execute(\"UPDATE Roster SET Rank='Major' WHERE name = 'Kira Nerys'\")\n",
    "    cursor.execute(\"UPDATE Roster SET Rank='Leutinant' WHERE name = 'Jadzia Dax'\")"
   ],
   "id": "32194a5b64c0c859",
   "outputs": [],
   "execution_count": 45
  },
  {
   "metadata": {
    "ExecuteTime": {
     "end_time": "2025-03-31T09:05:31.732587Z",
     "start_time": "2025-03-31T09:05:31.713351Z"
    }
   },
   "cell_type": "code",
   "source": [
    "with sqlite3.connect(\"roster.db\") as connection:\n",
    "    cursor = connection.cursor()\n",
    "    cursor.execute(\"select * from Roster order by age desc\")\n",
    "data = cursor.fetchall()\n",
    "print(data)"
   ],
   "id": "75937f6d5b183834",
   "outputs": [
    {
     "name": "stdout",
     "output_type": "stream",
     "text": [
      "[('Jadzia Dax', 'Trill', 300, 'Leutinant'), ('Jadzia Dax', 'Trill', 300, 'Leutinant'), ('Benjamin', 'Human', 40, None), ('Benjamin', 'Human', 40, None), ('Benjamin', 'Human', 40, None), ('Benjamin Sisko', 'Human', 40, 'Captain'), ('Benjamin Sisko', 'Human', 40, 'Captain'), ('Kira Nerys', 'Bajoran', 29, 'Major')]\n"
     ]
    }
   ],
   "execution_count": 47
  },
  {
   "metadata": {
    "ExecuteTime": {
     "end_time": "2025-03-31T09:23:19.336210Z",
     "start_time": "2025-03-31T09:23:19.312391Z"
    }
   },
   "cell_type": "code",
   "source": [
    "\n",
    "with sqlite3.connect(\"library.db\") as connection:\n",
    "    cursor = connection.cursor()\n",
    "    cursor.execute(\"Create table Books(Title text, Author text,Year_published integer, Genre text);\")\n",
    "\n"
   ],
   "id": "fb94d5a97c18601f",
   "outputs": [],
   "execution_count": 49
  },
  {
   "metadata": {
    "ExecuteTime": {
     "end_time": "2025-03-31T09:23:20.868470Z",
     "start_time": "2025-03-31T09:23:20.863540Z"
    }
   },
   "cell_type": "code",
   "source": [
    "with sqlite3.connect(\"library.db\") as connection:\n",
    "    cursor = connection.cursor()\n",
    "    cursor.execute(\"insert into Books values ('to kill a mockingbird', 'Harper Lee',1960,'Fiction'),('1984','George Orwell', 1949,'Dysotopian'),('The Great Getsby','F. Scott Fitzgerald',1925,'Classic');\")"
   ],
   "id": "131cf636c526981c",
   "outputs": [],
   "execution_count": 50
  },
  {
   "metadata": {
    "ExecuteTime": {
     "end_time": "2025-03-31T09:23:21.850383Z",
     "start_time": "2025-03-31T09:23:21.845454Z"
    }
   },
   "cell_type": "code",
   "source": [
    "with sqlite3.connect(\"library.db\") as connection:\n",
    "    cursor = connection.cursor()\n",
    "    cursor.execute(\"UPDATE Books Set Year_published=1950 where Title = '1984';\")"
   ],
   "id": "31321eeb52bec1f6",
   "outputs": [],
   "execution_count": 51
  },
  {
   "metadata": {
    "ExecuteTime": {
     "end_time": "2025-03-31T09:23:22.549350Z",
     "start_time": "2025-03-31T09:23:22.544013Z"
    }
   },
   "cell_type": "code",
   "source": [
    "with sqlite3.connect(\"library.db\") as connection:\n",
    "    cursor = connection.cursor()\n",
    "    cursor.execute(\"Select Title, Author from Books where Genre='Dysotopian';\")\n",
    "    data = cursor.fetchall()\n",
    "print(data)"
   ],
   "id": "54f051c0a35959a4",
   "outputs": [
    {
     "name": "stdout",
     "output_type": "stream",
     "text": [
      "[('1984', 'George Orwell')]\n"
     ]
    }
   ],
   "execution_count": 52
  },
  {
   "metadata": {
    "ExecuteTime": {
     "end_time": "2025-03-31T09:23:23.237716Z",
     "start_time": "2025-03-31T09:23:23.230635Z"
    }
   },
   "cell_type": "code",
   "source": [
    "with sqlite3.connect(\"library.db\") as connection:\n",
    "    cursor = connection.cursor()\n",
    "    cursor.execute(\"Delete from Books where Year_published < 1950;\")\n",
    "    connection.commit()\n"
   ],
   "id": "dcf8f83ef0549ada",
   "outputs": [],
   "execution_count": 53
  },
  {
   "metadata": {
    "ExecuteTime": {
     "end_time": "2025-03-31T09:23:26.032175Z",
     "start_time": "2025-03-31T09:23:26.027962Z"
    }
   },
   "cell_type": "code",
   "source": [
    "with sqlite3.connect(\"library.db\") as connection:\n",
    "    cursor = connection.cursor()\n",
    "    cursor.execute(\"Alter table Books add column Rating float;\")"
   ],
   "id": "5b72e8f2fbffa126",
   "outputs": [],
   "execution_count": 54
  },
  {
   "metadata": {
    "ExecuteTime": {
     "end_time": "2025-03-31T09:23:26.771885Z",
     "start_time": "2025-03-31T09:23:26.767564Z"
    }
   },
   "cell_type": "code",
   "source": [
    "with sqlite3.connect(\"library.db\") as connection:\n",
    "    cursor = connection.cursor()\n",
    "    cursor.execute(\"Update Books set Rating =4.8 where title = 'to kill a mockingbird';\")\n",
    "    cursor.execute (\"Update Books set Rating  = 4.7 where title = '1984';\")\n",
    "    cursor.execute (\"Update Books set Rating  = 4.5 where title = 'The Great Getsby';\")"
   ],
   "id": "60f89533f52e1bd0",
   "outputs": [],
   "execution_count": 55
  },
  {
   "metadata": {
    "ExecuteTime": {
     "end_time": "2025-03-31T09:23:35.298412Z",
     "start_time": "2025-03-31T09:23:35.285806Z"
    }
   },
   "cell_type": "code",
   "source": [
    "with sqlite3.connect(\"library.db\") as connection:\n",
    "    cursor = connection.cursor()\n",
    "    cursor.execute(\"Select * from Books order by year_published asc ;\")\n",
    "    data = cursor.fetchall()\n",
    "print(data)"
   ],
   "id": "ef39641bff08cd12",
   "outputs": [
    {
     "name": "stdout",
     "output_type": "stream",
     "text": [
      "[('1984', 'George Orwell', 1950, 'Dysotopian', 4.7), ('to kill a mockingbird', 'Harper Lee', 1960, 'Fiction', 4.8)]\n"
     ]
    }
   ],
   "execution_count": 56
  },
  {
   "metadata": {},
   "cell_type": "code",
   "outputs": [],
   "execution_count": null,
   "source": "",
   "id": "7001de6f629ecea9"
  }
 ],
 "metadata": {
  "kernelspec": {
   "display_name": "Python 3",
   "language": "python",
   "name": "python3"
  },
  "language_info": {
   "codemirror_mode": {
    "name": "ipython",
    "version": 2
   },
   "file_extension": ".py",
   "mimetype": "text/x-python",
   "name": "python",
   "nbconvert_exporter": "python",
   "pygments_lexer": "ipython2",
   "version": "2.7.6"
  }
 },
 "nbformat": 4,
 "nbformat_minor": 5
}
