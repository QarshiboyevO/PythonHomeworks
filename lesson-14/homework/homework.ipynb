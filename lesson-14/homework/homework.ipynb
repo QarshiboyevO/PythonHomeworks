{
 "cells": [
  {
   "cell_type": "code",
   "id": "initial_id",
   "metadata": {
    "collapsed": true,
    "ExecuteTime": {
     "end_time": "2025-04-01T06:16:36.218366Z",
     "start_time": "2025-04-01T06:16:36.216078Z"
    }
   },
   "source": [
    "import numpy as np\n",
    "def convertfartocel(farenheit):\n",
    "    celsius = (farenheit - 32)*5/9\n",
    "    return celsius\n",
    "return_vectorize=np.vectorize(convertfartocel)\n",
    "temp=np.array([32, 68, 100, 212, 77])\n",
    "print(return_vectorize(temp))"
   ],
   "outputs": [
    {
     "name": "stdout",
     "output_type": "stream",
     "text": [
      "[  0.          20.          37.77777778 100.          25.        ]\n"
     ]
    }
   ],
   "execution_count": 1
  },
  {
   "metadata": {
    "ExecuteTime": {
     "end_time": "2025-04-01T06:18:16.149461Z",
     "start_time": "2025-04-01T06:18:16.035577Z"
    }
   },
   "cell_type": "code",
   "source": [
    "def powerup(number,power):\n",
    "    return number**power\n",
    "powerup_vectorize=np.vectorize(powerup)\n",
    "number=np.array([2, 3, 4, 5])\n",
    "power=np.array([1, 2, 3, 4])\n",
    "print(powerup_vectorize(number,power))"
   ],
   "id": "2d2a800e9a79b634",
   "outputs": [
    {
     "name": "stdout",
     "output_type": "stream",
     "text": [
      "[  2   9  64 625]\n"
     ]
    }
   ],
   "execution_count": 2
  },
  {
   "metadata": {
    "ExecuteTime": {
     "end_time": "2025-04-01T06:24:01.736113Z",
     "start_time": "2025-04-01T06:24:01.710931Z"
    }
   },
   "cell_type": "code",
   "source": [
    "matrix=np.array([[4,5,6],[3,-1,1],[2,1,-2]])\n",
    "vector=np.array([7,4,5])\n",
    "answer=np.linalg.solve(matrix,vector)\n",
    "print(matrix)\n",
    "print(answer)"
   ],
   "id": "b378c986ee6e0471",
   "outputs": [
    {
     "name": "stdout",
     "output_type": "stream",
     "text": [
      "[[ 4  5  6]\n",
      " [ 3 -1  1]\n",
      " [ 2  1 -2]]\n",
      "[ 1.7027027   0.62162162 -0.48648649]\n"
     ]
    }
   ],
   "execution_count": 7
  },
  {
   "metadata": {
    "ExecuteTime": {
     "end_time": "2025-04-01T06:25:45.059128Z",
     "start_time": "2025-04-01T06:25:45.017682Z"
    }
   },
   "cell_type": "code",
   "source": [
    "A=np.array([[10,-2,3],[-2,8,-1],[3,-1,6]])\n",
    "B=np.array([12,-5,15])\n",
    "answers=np.linalg.solve(A,B)\n",
    "print(answers)"
   ],
   "id": "82d3c023a564cada",
   "outputs": [
    {
     "name": "stdout",
     "output_type": "stream",
     "text": [
      "[ 0.48963731 -0.2253886   2.21761658]\n"
     ]
    }
   ],
   "execution_count": 8
  },
  {
   "metadata": {
    "ExecuteTime": {
     "end_time": "2025-04-02T16:07:50.706119Z",
     "start_time": "2025-04-02T16:07:50.636218Z"
    }
   },
   "cell_type": "code",
   "source": [
    "from PIL import Image\n",
    "with Image.open(\"birds.jpg\") as Img:\n",
    "    print(Img.mode)\n",
    "    img_array=np.array(Img)\n",
    "def save_img(arr,name,mode):\n",
    "    img=Image.fromarray(arr,mode)\n",
    "    img.save(name)\n",
    "def flip_image(arr,name,mode):\n",
    "    rotated_img=np.rot90(arr,2)\n",
    "    save_img(rotated_img,name,mode)\n",
    "def add_noise(arr):\n",
    "    noise=np.random.normal(0,25,(100,100)).astype(np.int16)\n",
    "    noise_image=arr.astype(np.int16)+noise\n",
    "    noise_image=np.clip(noise_image,0,255)\n",
    "    return noise_image.astype(np.uint8)\n",
    "def brighten_image(arr,channel=0,amount=40):\n",
    "    arr = arr.copy()\n",
    "    arr[:, :, channel] = np.clip(arr[:, :, channel] + amount, 0, 255)\n",
    "    return arr\n",
    "\n",
    "def apply_mask(arr):\n",
    "    arr = arr.copy()\n",
    "    h, w = arr.shape[:2]\n",
    "    start_x = w // 2 - 50\n",
    "    start_y = h // 2 - 50\n",
    "    arr[start_y:start_y + 100, start_x:start_x + 100] = [0, 0, 0]\n",
    "    return arr\n",
    "\n"
   ],
   "id": "9dcff436b658b55b",
   "outputs": [
    {
     "name": "stdout",
     "output_type": "stream",
     "text": [
      "RGB\n"
     ]
    }
   ],
   "execution_count": 23
  },
  {
   "metadata": {},
   "cell_type": "code",
   "outputs": [],
   "execution_count": null,
   "source": "",
   "id": "6ba0ffff51ac98ea"
  }
 ],
 "metadata": {
  "kernelspec": {
   "display_name": "Python 3",
   "language": "python",
   "name": "python3"
  },
  "language_info": {
   "codemirror_mode": {
    "name": "ipython",
    "version": 2
   },
   "file_extension": ".py",
   "mimetype": "text/x-python",
   "name": "python",
   "nbconvert_exporter": "python",
   "pygments_lexer": "ipython2",
   "version": "2.7.6"
  }
 },
 "nbformat": 4,
 "nbformat_minor": 5
}
