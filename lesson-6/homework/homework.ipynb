{
 "cells": [
  {
   "cell_type": "code",
   "id": "initial_id",
   "metadata": {
    "collapsed": true,
    "ExecuteTime": {
     "end_time": "2025-02-20T06:00:28.633974Z",
     "start_time": "2025-02-20T06:00:28.629543Z"
    }
   },
   "source": [
    "def mydecorator(func):\n",
    "    def wrapper(a,b):\n",
    "\n",
    "        func(a,b)\n",
    "\n",
    "    return wrapper\n",
    "@mydecorator\n",
    "def div(a, b):\n",
    "    try:\n",
    "        print( a / b)\n",
    "    except ZeroDivisionError:\n",
    "        print(\"Can't divide by zero\")\n",
    "\n",
    "div(6,2)\n",
    "\n",
    "div(3,0)"
   ],
   "outputs": [
    {
     "name": "stdout",
     "output_type": "stream",
     "text": [
      "3.0\n",
      "Can't divide by zero\n"
     ]
    }
   ],
   "execution_count": 14
  },
  {
   "metadata": {},
   "cell_type": "code",
   "outputs": [],
   "execution_count": null,
   "source": "",
   "id": "ec9f9e4f13754bc8"
  }
 ],
 "metadata": {
  "kernelspec": {
   "display_name": "Python 3",
   "language": "python",
   "name": "python3"
  },
  "language_info": {
   "codemirror_mode": {
    "name": "ipython",
    "version": 2
   },
   "file_extension": ".py",
   "mimetype": "text/x-python",
   "name": "python",
   "nbconvert_exporter": "python",
   "pygments_lexer": "ipython2",
   "version": "2.7.6"
  }
 },
 "nbformat": 4,
 "nbformat_minor": 5
}
