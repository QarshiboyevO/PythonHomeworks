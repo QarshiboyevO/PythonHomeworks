{
 "cells": [
  {
   "cell_type": "code",
   "id": "initial_id",
   "metadata": {
    "collapsed": true,
    "ExecuteTime": {
     "end_time": "2025-02-20T06:00:28.633974Z",
     "start_time": "2025-02-20T06:00:28.629543Z"
    }
   },
   "source": [
    "def check(func):\n",
    "    def wrapper(a,b):\n",
    "\n",
    "        func(a,b)\n",
    "\n",
    "    return wrapper\n",
    "@check\n",
    "def div(a, b):\n",
    "    try:\n",
    "        print( a / b)\n",
    "    except ZeroDivisionError:\n",
    "        print(\"Can't divide by zero\")\n",
    "\n",
    "div(6,2)\n",
    "\n",
    "div(3,0)"
   ],
   "outputs": [
    {
     "name": "stdout",
     "output_type": "stream",
     "text": [
      "3.0\n",
      "Can't divide by zero\n"
     ]
    }
   ],
   "execution_count": 14
  },
  {
   "metadata": {
    "ExecuteTime": {
     "end_time": "2025-02-28T06:49:32.313710Z",
     "start_time": "2025-02-28T06:49:32.293800Z"
    }
   },
   "cell_type": "code",
   "source": [
    "\n",
    "def addfile(Id,name,position,salary):\n",
    "    file = open(\"employees.txt\",\"a\")\n",
    "    file.write(Id+\"\\t\"+name+\"\\t\"+position+\"\\t\"+salary+\"\\n\")\n",
    "    file.close()\n",
    "\n",
    "\n",
    "def viewall():\n",
    "    file = open(\"employees.txt\",\"r\")\n",
    "    print(file.read())\n",
    "    file.close()\n",
    "def search(id):\n",
    "    file = open(\"employees.txt\",\"r\")\n",
    "    for line in file:\n",
    "        if id in line:\n",
    "            print(line)\n",
    "    file.close()\n",
    "def update(id,updated):\n",
    "    file = open(\"employees.txt\",\"r\")\n",
    "    lines = file.readlines()\n",
    "\n",
    "    with open(\"employees.txt\",\"w\") as file:\n",
    "        for line in lines:\n",
    "            if id in line:\n",
    "                file.write(str(id)+\"\\t\"+str(updated)+\"\\n\")\n",
    "            else:\n",
    "                file.write(line)\n",
    "\n",
    "\n",
    "\n",
    "    file.close()\n",
    "def delete(id):\n",
    "    file = open(\"employees.txt\",\"r\")\n",
    "    lines = file.readlines()\n",
    "    with open(\"employees.txt\",\"w\") as file:\n",
    "\n",
    "        for line in lines:\n",
    "            if id not in line:\n",
    "                file.write(line)\n",
    "\n",
    "    file.close()\n",
    "addfile('1001', 'John Doe', 'Software Engineer', '75000')\n",
    "addfile('1003', 'Joe', ' Engineer', '76000')\n",
    "addfile('1004', 'Joh Doe', 'Software', '7500')\n",
    "addfile('1006', ' Doe', 'Software Engineer', '7600')\n",
    "addfile('1007', 'John', 'Software Engineer', '90770')\n",
    "\n",
    "viewall()\n",
    "search('1001')\n",
    "delete('1003')\n",
    "update(\"1004\",\"Umar, software, 35000\")\n",
    "viewall()"
   ],
   "id": "ec9f9e4f13754bc8",
   "outputs": [
    {
     "name": "stdout",
     "output_type": "stream",
     "text": [
      "1001\tJohn Doe\tSoftware Engineer\t75000\n",
      "1003\tJoe\t Engineer\t76000\n",
      "1004\tUmar, software, 35000\n",
      "1006\t Doe\tSoftware Engineer\t7600\n",
      "1007\tJohn\tSoftware Engineer\t90770\n",
      "\n"
     ]
    }
   ],
   "execution_count": 37
  },
  {
   "metadata": {
    "ExecuteTime": {
     "end_time": "2025-02-28T07:01:56.588391Z",
     "start_time": "2025-02-28T07:01:56.576653Z"
    }
   },
   "cell_type": "code",
   "source": [
    "from collections import Counter\n",
    "try:\n",
    "    file = open(\"sample.txt\",\"r\")\n",
    "    content = file.read().lower()\n",
    "    words = content.split()\n",
    "    wordcount = len(words)\n",
    "\n",
    "    word_count=Counter(words)\n",
    "    most_com=word_count.most_common(5)\n",
    "\n",
    "    print(f\"Total words: {wordcount}\"\"\\n\" \"Top 5 most common words:\")\n",
    "    for word, count in most_com:\n",
    "        print(f\"{word}: {count}\")\n",
    "\n",
    "\n",
    "except FileNotFoundError:\n",
    "    file = open(\"sample.txt\",\"w\")\n",
    "    file.write(input(\"enter your paragraph: \"))\n",
    "    file.close()\n",
    "    with open(\"sample.txt\",\"r\") as file:\n",
    "        content = file.read().lower()\n",
    "    words = content.split()\n",
    "    wordcount = len(words)\n",
    "\n",
    "    word_count=Counter(words)\n",
    "    most_com=word_count.most_common(5)\n",
    "\n",
    "    print(f\"Total words: {wordcount}\"\"\\n\" \"Top 5 most common words:\")\n",
    "    for word, count in most_com:\n",
    "        print(f\"{word}: {count}\")\n",
    "\n",
    "\n"
   ],
   "id": "312a9566ca437006",
   "outputs": [
    {
     "name": "stdout",
     "output_type": "stream",
     "text": [
      "Total words: 16\n",
      "Top 5 most common words:\n",
      "is: 3\n",
      "this: 2\n",
      "a: 2\n",
      "file.: 2\n",
      "simple: 1\n"
     ]
    }
   ],
   "execution_count": 42
  },
  {
   "metadata": {},
   "cell_type": "code",
   "outputs": [],
   "execution_count": null,
   "source": "",
   "id": "fef49f396b562625"
  }
 ],
 "metadata": {
  "kernelspec": {
   "display_name": "Python 3",
   "language": "python",
   "name": "python3"
  },
  "language_info": {
   "codemirror_mode": {
    "name": "ipython",
    "version": 2
   },
   "file_extension": ".py",
   "mimetype": "text/x-python",
   "name": "python",
   "nbconvert_exporter": "python",
   "pygments_lexer": "ipython2",
   "version": "2.7.6"
  }
 },
 "nbformat": 4,
 "nbformat_minor": 5
}
