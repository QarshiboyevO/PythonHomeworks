{
 "cells": [
  {
   "cell_type": "code",
   "id": "initial_id",
   "metadata": {
    "collapsed": true,
    "ExecuteTime": {
     "end_time": "2025-03-30T07:55:39.581100Z",
     "start_time": "2025-03-30T07:55:38.646614Z"
    }
   },
   "source": [
    "import requests\n",
    "lat=41.2995\n",
    "long=69.2401\n",
    "# api_key='29c95342e9f95fc80680b48232d2c84a'\n",
    "units=\"metric\"\n",
    "response=requests.get(f'https://api.openweathermap.org/data/2.5/weather?lat={lat}&lon={long}&appid=4a2fbf15ba7aa99742ff3d82c9515a8c')\n",
    "\n",
    "\n",
    "\n",
    "if response.status_code == 200:\n",
    "    data=response.json()\n",
    "\n",
    "    temp = data[\"main\"][\"temp\"]-273.15\n",
    "    humidity = data[\"main\"][\"humidity\"]\n",
    "    description = data[\"weather\"][0][\"description\"]\n",
    "    wind_speed = data[\"wind\"][\"speed\"]\n",
    "    visibility = data[\"visibility\"]\n",
    "    clouds = data[\"clouds\"][\"all\"]\n",
    "\n",
    "    print(f\"whether in Tashkent\")\n",
    "    print(f\"temperature: {temp}\")\n",
    "    print(f\"humidity: {humidity}\")\n",
    "    print(f\"description: {description}\")\n",
    "    print(f\"wind speed: {wind_speed}\")\n",
    "    print(f\"visibility: {visibility}\")\n",
    "    print(f\"clouds: {clouds}\")\n",
    "\n",
    "elif response.status_code == 404:\n",
    "    print(\"Error has occured\")"
   ],
   "outputs": [
    {
     "name": "stdout",
     "output_type": "stream",
     "text": [
      "whether in Tashkent\n",
      "temperature: 17.08000000000004\n",
      "humidity: 24\n",
      "description: clear sky\n",
      "wind speed: 1.24\n",
      "visibility: 10000\n",
      "clouds: 0\n"
     ]
    }
   ],
   "execution_count": 13
  },
  {
   "metadata": {},
   "cell_type": "code",
   "outputs": [],
   "execution_count": null,
   "source": "",
   "id": "1bfb65eb102d54f6"
  }
 ],
 "metadata": {
  "kernelspec": {
   "display_name": "Python 3",
   "language": "python",
   "name": "python3"
  },
  "language_info": {
   "codemirror_mode": {
    "name": "ipython",
    "version": 2
   },
   "file_extension": ".py",
   "mimetype": "text/x-python",
   "name": "python",
   "nbconvert_exporter": "python",
   "pygments_lexer": "ipython2",
   "version": "2.7.6"
  }
 },
 "nbformat": 4,
 "nbformat_minor": 5
}
