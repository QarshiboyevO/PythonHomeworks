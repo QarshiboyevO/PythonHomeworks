{
 "cells": [
  {
   "cell_type": "code",
   "id": "initial_id",
   "metadata": {
    "collapsed": true,
    "ExecuteTime": {
     "end_time": "2025-03-30T07:55:39.581100Z",
     "start_time": "2025-03-30T07:55:38.646614Z"
    }
   },
   "source": [
    "import requests\n",
    "lat=41.2995\n",
    "long=69.2401\n",
    "# api_key='29c95342e9f95fc80680b48232d2c84a'\n",
    "units=\"metric\"\n",
    "response=requests.get(f'https://api.openweathermap.org/data/2.5/weather?lat={lat}&lon={long}&appid=4a2fbf15ba7aa99742ff3d82c9515a8c')\n",
    "\n",
    "\n",
    "\n",
    "if response.status_code == 200:\n",
    "    data=response.json()\n",
    "\n",
    "    temp = data[\"main\"][\"temp\"]-273.15\n",
    "    humidity = data[\"main\"][\"humidity\"]\n",
    "    description = data[\"weather\"][0][\"description\"]\n",
    "    wind_speed = data[\"wind\"][\"speed\"]\n",
    "    visibility = data[\"visibility\"]\n",
    "    clouds = data[\"clouds\"][\"all\"]\n",
    "\n",
    "    print(f\"whether in Tashkent\")\n",
    "    print(f\"temperature: {temp}\")\n",
    "    print(f\"humidity: {humidity}\")\n",
    "    print(f\"description: {description}\")\n",
    "    print(f\"wind speed: {wind_speed}\")\n",
    "    print(f\"visibility: {visibility}\")\n",
    "    print(f\"clouds: {clouds}\")\n",
    "\n",
    "elif response.status_code == 404:\n",
    "    print(\"Error has occured\")"
   ],
   "outputs": [
    {
     "name": "stdout",
     "output_type": "stream",
     "text": [
      "whether in Tashkent\n",
      "temperature: 17.08000000000004\n",
      "humidity: 24\n",
      "description: clear sky\n",
      "wind speed: 1.24\n",
      "visibility: 10000\n",
      "clouds: 0\n"
     ]
    }
   ],
   "execution_count": 13
  },
  {
   "metadata": {
    "ExecuteTime": {
     "end_time": "2025-03-31T10:01:49.148873Z",
     "start_time": "2025-03-31T10:01:44.689147Z"
    }
   },
   "cell_type": "code",
   "source": [
    "import random\n",
    "Api_key='2bf7722e95121a161eac0c5769d1deee'\n",
    "def get_genres():\n",
    "    res = requests.get(f'https://api.themoviedb.org/3/genre/movie/list?api_key={Api_key}&language=en' )\n",
    "    genres=res.json()['genres']\n",
    "    return {genre['name'].lower():genre['id'] for genre in genres}\n",
    "def get_movies(genreid):\n",
    "    res= requests.get(f'https://api.themoviedb.org/3/discover/movie?api_key={Api_key}&with_genres{genreid}&language=en' )\n",
    "    movies=res.json()['results']\n",
    "    return movies\n",
    "\n",
    "def recommend_movies():\n",
    "    genres=get_genres()\n",
    "    print(f\"available genres:\")\n",
    "    for genre in genres:\n",
    "        print(f\" {genre.title()}\")\n",
    "\n",
    "    userinput=input(\"enter genre: \").strip().lower()\n",
    "    genreid=genres.get(userinput)\n",
    "    if not genreid:\n",
    "        print(\"genre not found\")\n",
    "        return\n",
    "    movies=get_movies(genreid)\n",
    "    movie=random.choice(movies)\n",
    "    print(f\"recommended movie: {movie['title']}\")\n",
    "    print(f\"recommended genre: {movie['overview']}\")\n",
    "\n",
    "\n",
    "\n",
    "recommend_movies()"
   ],
   "id": "1bfb65eb102d54f6",
   "outputs": [
    {
     "name": "stdout",
     "output_type": "stream",
     "text": [
      "available genres:\n",
      " Action\n",
      " Adventure\n",
      " Animation\n",
      " Comedy\n",
      " Crime\n",
      " Documentary\n",
      " Drama\n",
      " Family\n",
      " Fantasy\n",
      " History\n",
      " Horror\n",
      " Music\n",
      " Mystery\n",
      " Romance\n",
      " Science Fiction\n",
      " Tv Movie\n",
      " Thriller\n",
      " War\n",
      " Western\n",
      "recommended movie: Z Zone\n",
      "recommended genre: In a remote corner of the world, a group of troubled youths finds themselves whisked away to a mysterious military base after a series of misbehaviors. Expecting little more than a stern reprimand, they are instead thrust into a world of secrets and shadows.  In a desperate bid for freedom, they must unravel the mysteries of the base and confront the sinister forces that lurk in the shadows. But with time running out and danger lurking around every corner, the odds of survival grow slimmer by the minute.  Courage, strength, and sacrifice, would they finally escape the clutches of the base and emerge from the darkness into the light?\n"
     ]
    }
   ],
   "execution_count": 24
  },
  {
   "metadata": {},
   "cell_type": "code",
   "outputs": [],
   "execution_count": null,
   "source": "",
   "id": "8e9d653fc0e250a6"
  }
 ],
 "metadata": {
  "kernelspec": {
   "display_name": "Python 3",
   "language": "python",
   "name": "python3"
  },
  "language_info": {
   "codemirror_mode": {
    "name": "ipython",
    "version": 2
   },
   "file_extension": ".py",
   "mimetype": "text/x-python",
   "name": "python",
   "nbconvert_exporter": "python",
   "pygments_lexer": "ipython2",
   "version": "2.7.6"
  }
 },
 "nbformat": 4,
 "nbformat_minor": 5
}
