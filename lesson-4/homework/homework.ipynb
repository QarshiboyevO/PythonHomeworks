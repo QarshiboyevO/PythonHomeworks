{
 "cells": [
  {
   "cell_type": "code",
   "id": "initial_id",
   "metadata": {
    "collapsed": true,
    "ExecuteTime": {
     "end_time": "2025-02-17T11:08:13.373651Z",
     "start_time": "2025-02-17T11:08:13.367526Z"
    }
   },
   "source": [
    "x=[1,1,2,3,8,7]\n",
    "y=[1,2,3,4,5]\n",
    "list1=[i for i in x if i not in y]+[j for j in y if j not in x]\n",
    "print(list1)"
   ],
   "outputs": [
    {
     "name": "stdout",
     "output_type": "stream",
     "text": [
      "[8, 7, 4, 5]\n"
     ]
    }
   ],
   "execution_count": 116
  },
  {
   "metadata": {
    "ExecuteTime": {
     "end_time": "2025-02-17T11:31:38.685679Z",
     "start_time": "2025-02-17T11:31:36.557012Z"
    }
   },
   "cell_type": "code",
   "source": [
    "n=int(input(\"enter a number:\"))\n",
    "for i in range(1,n):\n",
    "    print(i**2 )\n"
   ],
   "id": "e2c5a9978028a0c0",
   "outputs": [
    {
     "name": "stdout",
     "output_type": "stream",
     "text": [
      "<generator object <genexpr> at 0x104c0c3c0>\n"
     ]
    }
   ],
   "execution_count": 124
  },
  {
   "metadata": {
    "ExecuteTime": {
     "end_time": "2025-02-17T13:56:03.302641Z",
     "start_time": "2025-02-17T13:55:33.755960Z"
    }
   },
   "cell_type": "code",
   "source": [
    "from random import randint\n",
    "print(\"It is a guessing game\")\n",
    "answer=input(\"do you want to play: \")\n",
    "number=randint(1,100)\n",
    "if answer==\"yes\" or answer==\"y\" or answer==\"YES\" or answer==\"Y\" or answer==\"ok\":\n",
    "    for x in range(0,10):\n",
    "        ans=int(input(\"enter your answer:\"))\n",
    "        if ans-number>0:\n",
    "            print(\"Too high!\")\n",
    "        elif ans-number<0:\n",
    "            print(\"Too low!\")\n",
    "        elif ans==number:\n",
    "            print(\"you won\")\n",
    "            break\n",
    "\n",
    "\n",
    "else:\n",
    "    print(\"it is ok, if you don't want to play\")\n"
   ],
   "id": "f15fdeca8cf07d0e",
   "outputs": [
    {
     "name": "stdout",
     "output_type": "stream",
     "text": [
      "It is a guessing game\n",
      "Too low!\n",
      "Too low!\n",
      "Too low!\n",
      "Too high!\n",
      "you won\n"
     ]
    }
   ],
   "execution_count": 127
  },
  {
   "metadata": {
    "ExecuteTime": {
     "end_time": "2025-02-17T07:06:09.360518Z",
     "start_time": "2025-02-17T07:06:04.180491Z"
    }
   },
   "cell_type": "code",
   "source": [
    "password=input(\"enter your password:\")\n",
    "numberofuppers=0\n",
    "if len(password)<8:\n",
    "    print(\"your password is too short\")\n",
    "else:\n",
    "    for i in range(0,len(password)):\n",
    "        if ( password[i]==password[i].upper()  ):\n",
    "            numberofuppers+=1\n",
    "    if numberofuppers>=1: print(\"your password is strong\")\n",
    "\n",
    "\n",
    "    else:\n",
    "        print(\"the password must contain at least one upper characters\")\n"
   ],
   "id": "90015db6828e235e",
   "outputs": [
    {
     "name": "stdout",
     "output_type": "stream",
     "text": [
      "the password must contain at least one upper characters\n"
     ]
    }
   ],
   "execution_count": 34
  },
  {
   "metadata": {
    "ExecuteTime": {
     "end_time": "2025-02-17T07:41:59.968480Z",
     "start_time": "2025-02-17T07:41:59.961687Z"
    }
   },
   "cell_type": "code",
   "source": [
    "for i in range(2,100):\n",
    "    for j in range(2,i-1):\n",
    "        if i % j == 0:\n",
    "            j+=1\n",
    "            break\n",
    "\n",
    "    else:\n",
    "       print(i)\n",
    "\n"
   ],
   "id": "a542d915a7a99854",
   "outputs": [
    {
     "name": "stdout",
     "output_type": "stream",
     "text": [
      "2\n",
      "3\n",
      "5\n",
      "7\n",
      "11\n",
      "13\n",
      "17\n",
      "19\n",
      "23\n",
      "29\n",
      "31\n",
      "37\n",
      "41\n",
      "43\n",
      "47\n",
      "53\n",
      "59\n",
      "61\n",
      "67\n",
      "71\n",
      "73\n",
      "79\n",
      "83\n",
      "89\n",
      "97\n"
     ]
    }
   ],
   "execution_count": 70
  },
  {
   "metadata": {
    "ExecuteTime": {
     "end_time": "2025-02-17T11:22:31.193088Z",
     "start_time": "2025-02-17T11:22:23.182930Z"
    }
   },
   "cell_type": "code",
   "source": [
    "tex=input(\"enter your text:\")\n",
    "vowel=\"aiuoeAIEOU\"\n",
    "result=[]\n",
    "i=0\n",
    "while i<len(tex)-1:\n",
    "    result.append(tex[i])\n",
    "    if (i+1)%3==0 and i<len(tex)-1:\n",
    "        if tex[i] in vowel or (i>0 and result[i-2]=='_'):\n",
    "            result.append(tex[i+1])\n",
    "            if i+2<len(tex):\n",
    "                result.append('_')\n",
    "            i+=1\n",
    "        else:\n",
    "            result.append('_')\n",
    "    i+=1\n",
    "\n",
    "\n",
    "print (\"\".join(result))\n"
   ],
   "id": "6a7eed54f8bd48b9",
   "outputs": [
    {
     "name": "stdout",
     "output_type": "stream",
     "text": [
      "asd_afew_ter_wc_csd__kyn_jl_tk__nyi_\n"
     ]
    }
   ],
   "execution_count": 122
  },
  {
   "metadata": {
    "ExecuteTime": {
     "end_time": "2025-02-17T13:54:37.856559Z",
     "start_time": "2025-02-17T13:52:15.132866Z"
    }
   },
   "cell_type": "code",
   "source": [
    "import random\n",
    "choice=['rock', 'paper', 'scissor']\n",
    "\n",
    "scorecomp=0\n",
    "scoreplayer=0\n",
    "while scoreplayer<5 and scorecomp<5:\n",
    "    computer=random.choice(choice)\n",
    "    player=input(\"enter your choice:\")\n",
    "    if (computer=='rock' and player=='scissor') or (computer=='paper' and player=='rock') or (computer=='scissor' and player=='paper'):\n",
    "        scorecomp+=1\n",
    "    elif (player=='rock' and computer=='scissor') or (player=='paper' and computer=='rock') or (player=='scissor' and computer =='paper'):\n",
    "        scoreplayer+=1\n",
    "    else:\n",
    "        scorecomp=scorecomp\n",
    "        scoreplayer=scoreplayer\n",
    "    print(f\"computer choice: {computer} ,\"\n",
    "          f\"player score: {scoreplayer} \"\n",
    "          f\"computer score: {scorecomp} \")\n",
    "if scoreplayer>scorecomp:\n",
    "    print(\"you win\")\n",
    "else:\n",
    "    print(\"you lose\")"
   ],
   "id": "4de73b915311d35e",
   "outputs": [
    {
     "name": "stdout",
     "output_type": "stream",
     "text": [
      "computer choice: paper ,player score: 0 computer score: 1 \n",
      "computer choice: rock ,player score: 0 computer score: 1 \n",
      "computer choice: rock ,player score: 0 computer score: 2 \n",
      "computer choice: scissor ,player score: 1 computer score: 2 \n",
      "computer choice: scissor ,player score: 1 computer score: 3 \n",
      "computer choice: scissor ,player score: 1 computer score: 4 \n",
      "computer choice: rock ,player score: 1 computer score: 4 \n",
      "computer choice: paper ,player score: 2 computer score: 4 \n",
      "computer choice: scissor ,player score: 2 computer score: 4 \n",
      "computer choice: scissor ,player score: 3 computer score: 4 \n",
      "computer choice: paper ,player score: 3 computer score: 4 \n",
      "computer choice: rock ,player score: 4 computer score: 4 \n",
      "computer choice: rock ,player score: 4 computer score: 4 \n",
      "computer choice: scissor ,player score: 4 computer score: 4 \n",
      "computer choice: rock ,player score: 4 computer score: 4 \n",
      "computer choice: rock ,player score: 4 computer score: 5 \n",
      "you lose\n"
     ]
    }
   ],
   "execution_count": 125
  },
  {
   "metadata": {},
   "cell_type": "code",
   "outputs": [],
   "execution_count": null,
   "source": "",
   "id": "dcabd2bbd5a11aa7"
  }
 ],
 "metadata": {
  "kernelspec": {
   "display_name": "Python 3",
   "language": "python",
   "name": "python3"
  },
  "language_info": {
   "codemirror_mode": {
    "name": "ipython",
    "version": 2
   },
   "file_extension": ".py",
   "mimetype": "text/x-python",
   "name": "python",
   "nbconvert_exporter": "python",
   "pygments_lexer": "ipython2",
   "version": "2.7.6"
  }
 },
 "nbformat": 4,
 "nbformat_minor": 5
}
