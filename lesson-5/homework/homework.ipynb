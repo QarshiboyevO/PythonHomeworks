{
 "cells": [
  {
   "cell_type": "code",
   "id": "initial_id",
   "metadata": {
    "collapsed": true,
    "ExecuteTime": {
     "end_time": "2025-02-17T14:07:32.514214Z",
     "start_time": "2025-02-17T14:07:23.939636Z"
    }
   },
   "source": [
    "def convert_cel_to_far(cel):\n",
    "    return cel * 1.8 + 32\n",
    "def convert_far_to_cel(fare):\n",
    "    return (fare-32)*5/9\n",
    "\n",
    "print(f\"Enter a temperature in degrees F:\")\n",
    "fare = float(input())\n",
    "print(f\"{fare} degrees F = {convert_far_to_cel(fare):.2f} degrees Celsius\")\n",
    "\n",
    "print(f\"Enter a temperature in degrees C:\")\n",
    "cel = float(input())\n",
    "print(f\"{cel} degrees C = {convert_cel_to_far(cel):.2f} degrees F\")\n"
   ],
   "outputs": [
    {
     "name": "stdout",
     "output_type": "stream",
     "text": [
      "Enter a temperature in degrees F:\n",
      "72.0 degrees F = 22.22 degrees Celsius\n",
      "Enter a temperature in degrees C:\n",
      "37.0 degrees C = 98.60 degrees F\n"
     ]
    }
   ],
   "execution_count": 2
  },
  {
   "metadata": {
    "ExecuteTime": {
     "end_time": "2025-02-17T14:11:34.350425Z",
     "start_time": "2025-02-17T14:11:34.339455Z"
    }
   },
   "cell_type": "code",
   "source": [
    "def invest(amount, rate, years):\n",
    "    for year in range(1,years+1):\n",
    "        final=amount*(1+rate)**year\n",
    "        print(f\"year {year}: {final:.2f}\")\n",
    "invest(100, 0.05, 4)"
   ],
   "id": "67201c3f6529ec23",
   "outputs": [
    {
     "name": "stdout",
     "output_type": "stream",
     "text": [
      "year 1: 105.00\n",
      "year 2: 110.25\n",
      "year 3: 115.76\n",
      "year 4: 121.55\n"
     ]
    }
   ],
   "execution_count": 6
  },
  {
   "metadata": {
    "ExecuteTime": {
     "end_time": "2025-02-17T14:14:06.569120Z",
     "start_time": "2025-02-17T14:14:06.561611Z"
    }
   },
   "cell_type": "code",
   "source": [
    "def factor(n):\n",
    "    for i in range(1,n+1):\n",
    "        if n%i==0:\n",
    "            print(f\"{i} is a factor of {n}\")\n",
    "factor(36)\n"
   ],
   "id": "8768db30d0b3bfc5",
   "outputs": [
    {
     "name": "stdout",
     "output_type": "stream",
     "text": [
      "1 is a factor of 36\n",
      "2 is a factor of 36\n",
      "3 is a factor of 36\n",
      "4 is a factor of 36\n",
      "6 is a factor of 36\n",
      "9 is a factor of 36\n",
      "12 is a factor of 36\n",
      "18 is a factor of 36\n",
      "36 is a factor of 36\n"
     ]
    }
   ],
   "execution_count": 7
  },
  {
   "metadata": {
    "ExecuteTime": {
     "end_time": "2025-02-17T14:16:04.574130Z",
     "start_time": "2025-02-17T14:16:04.563123Z"
    }
   },
   "cell_type": "code",
   "source": [
    "def is_prime(n):\n",
    "    if n<2:\n",
    "        return False\n",
    "    for i in range(2,n):\n",
    "        if n%i==0:\n",
    "            return False\n",
    "        else:\n",
    "            return True\n",
    "is_prime(17)"
   ],
   "id": "aaf93251f2f89236",
   "outputs": [
    {
     "data": {
      "text/plain": [
       "True"
      ]
     },
     "execution_count": 11,
     "metadata": {},
     "output_type": "execute_result"
    }
   ],
   "execution_count": 11
  },
  {
   "metadata": {
    "ExecuteTime": {
     "end_time": "2025-02-17T14:42:09.851535Z",
     "start_time": "2025-02-17T14:42:09.840094Z"
    }
   },
   "cell_type": "code",
   "source": [
    "def enrollment_stats(list):\n",
    "    students_enrolled=[]\n",
    "    tuitionfee=[]\n",
    "    for x in range(len(list)):\n",
    "        students_enrolled.append(list[x][1])\n",
    "        tuitionfee.append(list[x][2])\n",
    "    return students_enrolled, tuitionfee\n",
    "def mean(list):\n",
    "    return sum(list)/len(list)\n",
    "def median(list):\n",
    "    if len(list)>1:\n",
    "        return sorted(list)[len(list)//2]\n",
    "    else:\n",
    "        return list[0]\n",
    "\n",
    "universities = [\n",
    "    ['California Institute of Technology', 2175, 37704],\n",
    "    ['Harvard', 19627, 39849],\n",
    "    ['Massachusetts Institute of Technology', 10566, 40732],\n",
    "    ['Princeton', 7802, 37000],\n",
    "    ['Rice', 5879, 35551],\n",
    "    ['Stanford', 19535, 40569],\n",
    "    ['Yale', 11701, 40500]\n",
    "]\n",
    "print(f\"Total Students: {sum(enrollment_stats(universities)[0])}\")\n",
    "print(f\"Total Tuition: ${sum(enrollment_stats(universities)[1])}\")\n",
    "print(f\"Students mean: {mean(enrollment_stats(universities)[0]):.2}\")\n",
    "print(f\"Students median: {median(enrollment_stats(universities)[0]):.2f}\")\n",
    "print(f\"Tuition mean: ${mean(enrollment_stats(universities)[1]):.2f}\")\n",
    "print(f\"Tuition median: ${median(enrollment_stats(universities)[1]):.2f}\")\n"
   ],
   "id": "f8ae5bdf9c387526",
   "outputs": [
    {
     "name": "stdout",
     "output_type": "stream",
     "text": [
      "Total Students: 77285\n",
      "Total Tuition: $271905\n",
      "Students mean: 1.1e+04\n",
      "Students median: 10566.00\n",
      "Tuition mean: $38843.57\n",
      "Tuition median: $39849.00\n"
     ]
    }
   ],
   "execution_count": 33
  },
  {
   "metadata": {},
   "cell_type": "code",
   "outputs": [],
   "execution_count": null,
   "source": "",
   "id": "4a4b035ce681359e"
  }
 ],
 "metadata": {
  "kernelspec": {
   "display_name": "Python 3",
   "language": "python",
   "name": "python3"
  },
  "language_info": {
   "codemirror_mode": {
    "name": "ipython",
    "version": 2
   },
   "file_extension": ".py",
   "mimetype": "text/x-python",
   "name": "python",
   "nbconvert_exporter": "python",
   "pygments_lexer": "ipython2",
   "version": "2.7.6"
  }
 },
 "nbformat": 4,
 "nbformat_minor": 5
}
